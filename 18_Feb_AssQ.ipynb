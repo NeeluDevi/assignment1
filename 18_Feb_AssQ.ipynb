{
  "nbformat": 4,
  "nbformat_minor": 0,
  "metadata": {
    "colab": {
      "provenance": [],
      "authorship_tag": "ABX9TyM8egRh6tZfNqnqnXSPViIV",
      "include_colab_link": true
    },
    "kernelspec": {
      "name": "python3",
      "display_name": "Python 3"
    },
    "language_info": {
      "name": "python"
    }
  },
  "cells": [
    {
      "cell_type": "markdown",
      "metadata": {
        "id": "view-in-github",
        "colab_type": "text"
      },
      "source": [
        "<a href=\"https://colab.research.google.com/github/NeeluDevi/assignment1/blob/main/18_Feb_AssQ.ipynb\" target=\"_parent\"><img src=\"https://colab.research.google.com/assets/colab-badge.svg\" alt=\"Open In Colab\"/></a>"
      ]
    },
    {
      "cell_type": "markdown",
      "source": [
        "**Q1. What is an API? Give an example, where an API is used in real life.**"
      ],
      "metadata": {
        "id": "VICIDmSvfbs3"
      }
    },
    {
      "cell_type": "markdown",
      "source": [
        "**Ans :** APIs are used in web applications to connect user-facing front ends with critical back-end functionality and data. \n",
        "\n",
        "\n",
        "**Example :**  Gpay,Netflix,Spotify etc."
      ],
      "metadata": {
        "id": "6VvU5XpHfeqb"
      }
    },
    {
      "cell_type": "markdown",
      "source": [
        "**Q2. Give advantages and disadvantages of using API.**"
      ],
      "metadata": {
        "id": "hLhielr-gNB_"
      }
    },
    {
      "cell_type": "markdown",
      "source": [
        "**Ans :**  \n",
        "\n",
        "\n",
        "**Advantages**  \n",
        "\n",
        "1. Efficient : allow reuse the code\n",
        "2. Flexible : allow users to access data from different source.\n",
        "3. Improve User experience : can improve the user experience by providing seamless integrations with other applications.\n",
        "4. Standardization: set of rules and protocols that all applications must follow.\n",
        "\n",
        "\n",
        "\n",
        "\n",
        "**Disadvantages**\n",
        "\n",
        "\n",
        "1. Complexity\n",
        "2. Reliability\n",
        "3. Security\n",
        "4. Compatability\n",
        "\n"
      ],
      "metadata": {
        "id": "EUQyR3fhgQes"
      }
    },
    {
      "cell_type": "markdown",
      "source": [
        "**Q3. What is a Web API? Differentiate between API and Web API.**"
      ],
      "metadata": {
        "id": "k3oR0XVDlMIK"
      }
    },
    {
      "cell_type": "markdown",
      "source": [
        "**Ans :**\n",
        "\n",
        "**Web API:**   A Web API (Application Programming Interface) is a type of API that enables communication between different software systems over the internet.\n",
        "\n",
        "\n",
        "\n",
        "\n",
        "**Differentiate between API and Web API.**\n",
        "           \n",
        "        API                            Web API\n",
        "       1. API use messaging,             uses HTTP (Hypertext Transfer \n",
        "          remote procedural calls.       Protocol) as the communication protocol.                                \n",
        "       2. Can access a wide variety      access to web-based resources.\n",
        "          of resources.\n",
        "       3. Used across desktop            used in web development to allow \n",
        "          applications,mobile            web applications to access \n",
        "          applications.                   server-side resources.\n",
        "                                          \n",
        "       4. Use protocols XML,TCP/IP.      Use REST and SOAP protocols.\n",
        "\n",
        "\n",
        "\n",
        "\n",
        "\n",
        "    \n",
        "\n",
        "\n",
        "\n",
        "\n",
        "\n"
      ],
      "metadata": {
        "id": "AdabxEA4lNq4"
      }
    },
    {
      "cell_type": "markdown",
      "source": [
        "**Q4. Explain REST and SOAP Architecture. Mention shortcomings of SOAP.**"
      ],
      "metadata": {
        "id": "xZsq7Ut8oMF2"
      }
    },
    {
      "cell_type": "markdown",
      "source": [
        "**Ans :**  \n",
        "\n",
        "**REST** is a set of guidelines that offers flexible implementation.\n",
        "\n",
        "**SOAP** is a protocol with specific requirements like XML messaging. \n",
        "\n",
        "**Shortcomings of SOAP:** \n",
        "1. Complexity\n",
        "2. Performance\n",
        "3. scalability\n",
        "4. Light weighted.\n",
        "5. Secure\n",
        "\n"
      ],
      "metadata": {
        "id": "yb67bqpkoPw2"
      }
    },
    {
      "cell_type": "markdown",
      "source": [
        "**Q5. Differentiate between REST and SOAP.**"
      ],
      "metadata": {
        "id": "vtcMQlHopK4_"
      }
    },
    {
      "cell_type": "markdown",
      "source": [
        "**Ans :**\n",
        "\n",
        "        REST                                SOAP\n",
        "     1. Uses HTTP protocol.               Use HTTP, SMTP, FTP.\n",
        "     2. Uses lightweight JSON or XML      Uses only XML for data exchange.\n",
        "        for data exchange.\n",
        "     3. Stateless communication.          Stateful communication b/w \n",
        "                                           client and server.\n",
        "     4. Supports caching                  Does not support caching.     .    \n",
        "     5. Highly scalable                   May not be as scalable.\n",
        "     6. Faster performance                Can be slower.\n",
        "     7. Can be used with any               used with Java and .NET.\n",
        "        programming language.\n",
        "    \n",
        "     "
      ],
      "metadata": {
        "id": "TZk8NjCgpMmT"
      }
    },
    {
      "cell_type": "code",
      "source": [],
      "metadata": {
        "id": "3ST7DnqBfeWs"
      },
      "execution_count": null,
      "outputs": []
    }
  ]
}