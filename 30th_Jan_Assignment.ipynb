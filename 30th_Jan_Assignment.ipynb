{
  "nbformat": 4,
  "nbformat_minor": 0,
  "metadata": {
    "colab": {
      "provenance": [],
      "authorship_tag": "ABX9TyM/hd8shzJicM0XnvXopSym",
      "include_colab_link": true
    },
    "kernelspec": {
      "name": "python3",
      "display_name": "Python 3"
    },
    "language_info": {
      "name": "python"
    }
  },
  "cells": [
    {
      "cell_type": "markdown",
      "metadata": {
        "id": "view-in-github",
        "colab_type": "text"
      },
      "source": [
        "<a href=\"https://colab.research.google.com/github/NeeluDevi/assignment1/blob/main/30th_Jan_Assignment.ipynb\" target=\"_parent\"><img src=\"https://colab.research.google.com/assets/colab-badge.svg\" alt=\"Open In Colab\"/></a>"
      ]
    },
    {
      "cell_type": "markdown",
      "source": [
        "**1. Write a program to accept the percentage from the user and display the grade according to the following criteria.**\n",
        "\n",
        "1.   Marks                   Grade\n",
        "2.   >90                       A\n",
        "3.   >80 and <=90              B\n",
        "4.   >=60 and <=80             C\n",
        "5.   below 60                  D \n",
        "\n",
        "\n",
        "\n",
        "\n"
      ],
      "metadata": {
        "id": "N5SLg8Kn7er2"
      }
    },
    {
      "cell_type": "code",
      "execution_count": null,
      "metadata": {
        "colab": {
          "base_uri": "https://localhost:8080/"
        },
        "id": "w7bh1voP6_yc",
        "outputId": "8147c10e-54f7-4462-fc97-8238432e52c1"
      },
      "outputs": [
        {
          "output_type": "stream",
          "name": "stdout",
          "text": [
            "Enter your percentage :70\n",
            "Grade : C\n"
          ]
        }
      ],
      "source": [
        "marks=int(input(\"Enter your percentage :\"))\n",
        "if marks>90:\n",
        "  print(\"Grade : A\")\n",
        "elif marks >80 and marks<=90 :\n",
        "  print(\"Grade : B\")\n",
        "elif marks>=60 and marks<=80:\n",
        "  print(\"Grade : C\")\n",
        "else:\n",
        "  print(\"Grade : D\")"
      ]
    },
    {
      "cell_type": "markdown",
      "source": [
        "**2. Write a program to accept the cost price of a bike and display the road tax to be paid according to the following criteria.**"
      ],
      "metadata": {
        "id": "6ak_EigO_Irh"
      }
    },
    {
      "cell_type": "markdown",
      "source": [
        "\n",
        "\n",
        "*   Tax                               1. Cost price(rs)\n",
        "*   15%                                 greate than >100000\n",
        "*   10%                                 greater than >5000 and <=100000\n",
        "*   5%                                   less than <=5000\n",
        "\n",
        "\n"
      ],
      "metadata": {
        "id": "xF6rtV_V_fM4"
      }
    },
    {
      "cell_type": "code",
      "source": [
        "cost=int(input(\"Enter the cost price of the bike: \"))\n",
        "if cost > 100000:\n",
        "  road_tax = cost * 0.15\n",
        "elif cost > 5000 and cost <= 100000 :\n",
        "  road_tax = cost * 0.10\n",
        "else :\n",
        "  road_tax = cost * 0.05\n",
        "print(\"The road tax to be paid is Rs. : \",road_tax)"
      ],
      "metadata": {
        "colab": {
          "base_uri": "https://localhost:8080/"
        },
        "id": "cXt6xwJK-heS",
        "outputId": "64cceaab-311d-4e7c-d8a6-a8f1c349d535"
      },
      "execution_count": null,
      "outputs": [
        {
          "output_type": "stream",
          "name": "stdout",
          "text": [
            "Enter the cost price of the bike: 6700\n",
            "The road tax to be paid is Rs. :  670.0\n"
          ]
        }
      ]
    },
    {
      "cell_type": "markdown",
      "source": [
        "**3. Accept any city from the user and display monuments of that city.**"
      ],
      "metadata": {
        "id": "5EEQusPXCi5v"
      }
    },
    {
      "cell_type": "markdown",
      "source": [
        "\n",
        "\n",
        "1.   City                 Monuments\n",
        "2.   Delhi                   Red Fort\n",
        "3.   Agra                    Taj Mahal\n",
        "4.   Jaipur                  Jal Mahal\n",
        "\n"
      ],
      "metadata": {
        "id": "o88EuJQZCwKT"
      }
    },
    {
      "cell_type": "code",
      "source": [
        "city = input(\"Enter the city :\")\n",
        "if city == 'Delhi' or city == 'delhi' :\n",
        "  print(\"Monument : Red Fort\")\n",
        "elif city == 'Agra' or city == 'agra' :\n",
        "  print(\"Monument : Taj Mahal\")\n",
        "elif city == 'Jaipur' or city == 'jaipur' :\n",
        "  print(\"Monument : Jal Mahal\")\n",
        "else:\n",
        "  print(\"Enter a valid city\")"
      ],
      "metadata": {
        "colab": {
          "base_uri": "https://localhost:8080/"
        },
        "id": "ryudFOEdCXpV",
        "outputId": "6438adc1-986e-4d45-98a9-86d3d72538d5"
      },
      "execution_count": null,
      "outputs": [
        {
          "output_type": "stream",
          "name": "stdout",
          "text": [
            "Enter the city :agra\n",
            "Monument : Taj Mahal\n"
          ]
        }
      ]
    },
    {
      "cell_type": "markdown",
      "source": [
        "**4. Check how many times a given number can be divided by 3 before it is less than or equal to 10.**"
      ],
      "metadata": {
        "id": "yQsBZ1d5EE2O"
      }
    },
    {
      "cell_type": "code",
      "source": [
        "num = int(input(\"Enter a number :\"))\n",
        "count=0\n",
        "while num > 10 :\n",
        "  num = num/3\n",
        "  count =count+ 1\n",
        "print(\"The given number can be divided by 3\",count,\"times before it becomes less than or equal to 10.\")"
      ],
      "metadata": {
        "colab": {
          "base_uri": "https://localhost:8080/"
        },
        "id": "6GOVBZZGD8Ih",
        "outputId": "6c8f2206-42f9-455a-c8dc-3c06f398a750"
      },
      "execution_count": null,
      "outputs": [
        {
          "output_type": "stream",
          "name": "stdout",
          "text": [
            "Enter a number :180\n",
            "The given number can be divided by 3 3 times before it becomes less than or equal to 10.\n"
          ]
        }
      ]
    },
    {
      "cell_type": "markdown",
      "source": [
        "**5. Why and When we use while loop in Python give a detailed description with example.**"
      ],
      "metadata": {
        "id": "uLWdzVaWIYYB"
      }
    },
    {
      "cell_type": "markdown",
      "source": [
        "**Ans. :** Python while loop is used to run a block code until a certain condition is met. Here, A while loop evaluates the condition. If the condition evaluates to True , the code inside the while loop is executed."
      ],
      "metadata": {
        "id": "n99iYWq8JEbP"
      }
    },
    {
      "cell_type": "code",
      "source": [
        "# example\n",
        "num=1\n",
        "while num <5:\n",
        "  print(num)\n",
        "  num +=1"
      ],
      "metadata": {
        "colab": {
          "base_uri": "https://localhost:8080/"
        },
        "id": "Y_GBcHY5G_Di",
        "outputId": "465da7c1-0979-48b5-9e2b-b74b590dd457"
      },
      "execution_count": null,
      "outputs": [
        {
          "output_type": "stream",
          "name": "stdout",
          "text": [
            "1\n",
            "2\n",
            "3\n",
            "4\n"
          ]
        }
      ]
    },
    {
      "cell_type": "markdown",
      "source": [
        "**6. Use nested while loop to print 3 different pattern.**"
      ],
      "metadata": {
        "id": "O039OqLXJkKO"
      }
    },
    {
      "cell_type": "code",
      "source": [
        "i = 1\n",
        "while i <= 5:\n",
        "    j = 1\n",
        "    while j <= i:\n",
        "        print((i), end=\" \")\n",
        "        j = j + 1\n",
        "    i = i + 1\n",
        "    print('')"
      ],
      "metadata": {
        "colab": {
          "base_uri": "https://localhost:8080/"
        },
        "id": "Mz0R_QWJJXVX",
        "outputId": "86906fc1-a8f0-498d-c7f9-3e777f42b24a"
      },
      "execution_count": null,
      "outputs": [
        {
          "output_type": "stream",
          "name": "stdout",
          "text": [
            "1 \n",
            "2 2 \n",
            "3 3 3 \n",
            "4 4 4 4 \n",
            "5 5 5 5 5 \n"
          ]
        }
      ]
    },
    {
      "cell_type": "code",
      "source": [
        "i=1\n",
        "while i<=5:\n",
        "    j=1\n",
        "    while j<=i:\n",
        "        print(j,end=\" \")\n",
        "        j=j+1\n",
        "    print(\"\")\n",
        "    i=i+1"
      ],
      "metadata": {
        "colab": {
          "base_uri": "https://localhost:8080/"
        },
        "id": "kFe-MqvUKr26",
        "outputId": "38a5f950-19cf-4c95-a294-90822b939404"
      },
      "execution_count": null,
      "outputs": [
        {
          "output_type": "stream",
          "name": "stdout",
          "text": [
            "1 \n",
            "1 2 \n",
            "1 2 3 \n",
            "1 2 3 4 \n",
            "1 2 3 4 5 \n"
          ]
        }
      ]
    },
    {
      "cell_type": "code",
      "source": [
        "i = 5\n",
        "while i >= 1:\n",
        "    j = 1\n",
        "    while j <= i:\n",
        "        print(j, end='')\n",
        "        j += 1\n",
        "    print()\n",
        "    i -= 1"
      ],
      "metadata": {
        "colab": {
          "base_uri": "https://localhost:8080/"
        },
        "id": "TQ_iZ1QPLHJR",
        "outputId": "043a415c-e4a8-4a59-8406-640753bab7ba"
      },
      "execution_count": null,
      "outputs": [
        {
          "output_type": "stream",
          "name": "stdout",
          "text": [
            "12345\n",
            "1234\n",
            "123\n",
            "12\n",
            "1\n"
          ]
        }
      ]
    },
    {
      "cell_type": "markdown",
      "source": [
        "**7. Reverse a while to display numbers from 10 to 1.**"
      ],
      "metadata": {
        "id": "k3z2gjoMNDyZ"
      }
    },
    {
      "cell_type": "code",
      "source": [
        "i=10\n",
        "while i>0:\n",
        "  print(i)\n",
        "  i=i-1"
      ],
      "metadata": {
        "colab": {
          "base_uri": "https://localhost:8080/"
        },
        "id": "nxL5T5KeLh8_",
        "outputId": "16d22627-0948-4a2c-f865-f31712660d79"
      },
      "execution_count": null,
      "outputs": [
        {
          "output_type": "stream",
          "name": "stdout",
          "text": [
            "10\n",
            "9\n",
            "8\n",
            "7\n",
            "6\n",
            "5\n",
            "4\n",
            "3\n",
            "2\n",
            "1\n"
          ]
        }
      ]
    },
    {
      "cell_type": "markdown",
      "source": [
        "**8. Reverse a while loop to display numbers from 10 to 1.**"
      ],
      "metadata": {
        "id": "iPVLzk8VN9-u"
      }
    },
    {
      "cell_type": "code",
      "source": [
        "i=10\n",
        "while i >0:\n",
        "  print(i)\n",
        "  i=i-1"
      ],
      "metadata": {
        "colab": {
          "base_uri": "https://localhost:8080/"
        },
        "id": "bcY2TBISMHxW",
        "outputId": "8f56cccb-c8b3-40ad-ec04-feff4b9a852a"
      },
      "execution_count": null,
      "outputs": [
        {
          "output_type": "stream",
          "name": "stdout",
          "text": [
            "10\n",
            "9\n",
            "8\n",
            "7\n",
            "6\n",
            "5\n",
            "4\n",
            "3\n",
            "2\n",
            "1\n"
          ]
        }
      ]
    },
    {
      "cell_type": "code",
      "source": [],
      "metadata": {
        "id": "WG3f1_i0OOKq"
      },
      "execution_count": null,
      "outputs": []
    }
  ]
}