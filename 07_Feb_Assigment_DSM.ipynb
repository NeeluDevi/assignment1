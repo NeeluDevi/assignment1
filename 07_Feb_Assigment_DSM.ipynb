{
  "nbformat": 4,
  "nbformat_minor": 0,
  "metadata": {
    "colab": {
      "provenance": [],
      "authorship_tag": "ABX9TyNgGXrEM9slhr+pB+miesj/",
      "include_colab_link": true
    },
    "kernelspec": {
      "name": "python3",
      "display_name": "Python 3"
    },
    "language_info": {
      "name": "python"
    }
  },
  "cells": [
    {
      "cell_type": "markdown",
      "metadata": {
        "id": "view-in-github",
        "colab_type": "text"
      },
      "source": [
        "<a href=\"https://colab.research.google.com/github/NeeluDevi/assignment1/blob/main/07_Feb_Assigment_DSM.ipynb\" target=\"_parent\"><img src=\"https://colab.research.google.com/assets/colab-badge.svg\" alt=\"Open In Colab\"/></a>"
      ]
    },
    {
      "cell_type": "markdown",
      "source": [
        "**Q1. You are writing code for a company. The requirement of the company is that you create a python\n",
        "function that will check whether the password entered by the user is correct or not. The function should\n",
        "take the password as input and return the string “Valid Password” if the entered password follows the\n",
        "below-given password guidelines else it should return “Invalid Password”.**"
      ],
      "metadata": {
        "id": "xxIjQbToEQAA"
      }
    },
    {
      "cell_type": "code",
      "source": [
        "import re"
      ],
      "metadata": {
        "id": "duiWzFfqMmOd"
      },
      "execution_count": null,
      "outputs": []
    },
    {
      "cell_type": "code",
      "source": [
        "import re\n",
        "\n",
        "def validate_password(password):\n",
        "    # Check password length\n",
        "    if len(password) < 10:\n",
        "        return \"Invalid Password:The password should be 10 characters long.\"\n",
        "\n",
        "    # Check for uppercase letters\n",
        "    if len(re.findall(r'[A-Z]', password)) < 2:\n",
        "        return \"Invalid Password: The Password should contain at least two uppercase letters\"\n",
        "\n",
        "    # Check for lowercase letters\n",
        "    if len(re.findall(r'[a-z]', password)) < 2:\n",
        "        return \"Invalid Password: The Password should contain at least two lowercase letters\"\n",
        "\n",
        "    # Check for numbers\n",
        "    if len(re.findall(r'[0-9]', password)) < 1:\n",
        "        return \"Invalid Password: The Password should contain at least a number\"\n",
        "\n",
        "    # Check for special characters\n",
        "    if len(re.findall(r'[!@#$%^&*_]', password)) < 3:\n",
        "        return \"Invalid Password: The Password should contain at least three special characters.\"\n",
        "\n",
        "    # Password passed all checks\n",
        "    return \"Valid Password\"\n"
      ],
      "metadata": {
        "id": "MKahWyCJLtPi"
      },
      "execution_count": null,
      "outputs": []
    },
    {
      "cell_type": "code",
      "source": [
        "validate_password('NEeluek@0#9&8')"
      ],
      "metadata": {
        "colab": {
          "base_uri": "https://localhost:8080/",
          "height": 36
        },
        "id": "tv2K9OCDOS8b",
        "outputId": "824ec747-0e8f-487a-e931-7678d63aaf2a"
      },
      "execution_count": null,
      "outputs": [
        {
          "output_type": "execute_result",
          "data": {
            "text/plain": [
              "'Valid Password'"
            ],
            "application/vnd.google.colaboratory.intrinsic+json": {
              "type": "string"
            }
          },
          "metadata": {},
          "execution_count": 3
        }
      ]
    },
    {
      "cell_type": "markdown",
      "source": [
        "**Q2. Solve the below-given questions using at least one of the following:**"
      ],
      "metadata": {
        "id": "qhihYSNEQO37"
      }
    },
    {
      "cell_type": "markdown",
      "source": [
        "\n",
        "1. Lambda function\n",
        "2. Filter function\n",
        "3. Zap function\n",
        "4. List Comprehension\n",
        "\n"
      ],
      "metadata": {
        "id": "w2El-e7hQTqW"
      }
    },
    {
      "cell_type": "markdown",
      "source": [
        "**a.  Check if the string starts with a particular letter**"
      ],
      "metadata": {
        "id": "Qn3j9SzrQy0L"
      }
    },
    {
      "cell_type": "code",
      "source": [
        "#Check if the string starts with a particular letter using lambda\n",
        "starts_with = lambda x: \"Yes\" if x.startswith('L') else \"No\"\n",
        "print(starts_with('Learn PW Skills'))\n"
      ],
      "metadata": {
        "colab": {
          "base_uri": "https://localhost:8080/"
        },
        "id": "Q55b_d0aObVN",
        "outputId": "44a8864f-4162-447b-d607-3cf782301750"
      },
      "execution_count": null,
      "outputs": [
        {
          "output_type": "stream",
          "name": "stdout",
          "text": [
            "Yes\n"
          ]
        }
      ]
    },
    {
      "cell_type": "code",
      "source": [
        "#Filter out the string starts with a particular letter using filter and lambda\n",
        "lis=['neelu','sorange', 'smango']\n",
        "start_letter='s'\n",
        "start=list(filter(lambda x: x.startswith(start_letter),lis))\n",
        "print((start))"
      ],
      "metadata": {
        "id": "tdb3m7KYRlw3",
        "colab": {
          "base_uri": "https://localhost:8080/"
        },
        "outputId": "fc04836e-342d-4821-b8f3-76fedeaa27a4"
      },
      "execution_count": null,
      "outputs": [
        {
          "output_type": "stream",
          "name": "stdout",
          "text": [
            "['sorange', 'smango']\n"
          ]
        }
      ]
    },
    {
      "cell_type": "code",
      "source": [
        "#Check if the string starts with a particular letter using list comprehension\n",
        "string='Hello PW Skills Hy'.split()\n",
        "start=[x for x in string if 'H' in x]\n",
        "print(start)"
      ],
      "metadata": {
        "colab": {
          "base_uri": "https://localhost:8080/"
        },
        "id": "NcBaj1GYvL2a",
        "outputId": "c06ffe23-bd9d-4ae6-8919-c84d75f7f5fa"
      },
      "execution_count": null,
      "outputs": [
        {
          "output_type": "stream",
          "name": "stdout",
          "text": [
            "['Hello', 'Hy']\n"
          ]
        }
      ]
    },
    {
      "cell_type": "markdown",
      "source": [
        "**b.  Check if the string is numeric.**"
      ],
      "metadata": {
        "id": "LcP_nng8zbQb"
      }
    },
    {
      "cell_type": "code",
      "source": [
        "#Check if the string is numeric using lambda\n",
        "is_numeric = lambda x: x.isdigit()\n",
        "print(is_numeric('12345'))\n",
        "print(is_numeric('-12345'))\n",
        "print(is_numeric('167.8'))\n",
        "\n",
        "print('# use of isnumeric()')\n",
        "num=lambda x:x.isnumeric()\n",
        "print(num('1383'))\n",
        "print(num('-27828'))"
      ],
      "metadata": {
        "colab": {
          "base_uri": "https://localhost:8080/"
        },
        "id": "0NoRMsjhzg4R",
        "outputId": "4c190207-45f9-4ae2-b476-e58f9cb4b4ec"
      },
      "execution_count": null,
      "outputs": [
        {
          "output_type": "stream",
          "name": "stdout",
          "text": [
            "True\n",
            "False\n",
            "False\n",
            "# use of isnumeric()\n",
            "True\n",
            "False\n"
          ]
        }
      ]
    },
    {
      "cell_type": "code",
      "source": [
        "#Check if the string is numeric using filter\n",
        "s = \"1234\"\n",
        "is_numeric = bool(''.join(filter(lambda x: x.isdigit() or x in [\"-\", \".\"], s)) == s)\n",
        "print(is_numeric) "
      ],
      "metadata": {
        "colab": {
          "base_uri": "https://localhost:8080/"
        },
        "id": "F9KLZtmZ5Ibq",
        "outputId": "ba19f98a-0fdf-4bfd-ee46-ea49808fd64d"
      },
      "execution_count": null,
      "outputs": [
        {
          "output_type": "stream",
          "name": "stdout",
          "text": [
            "True\n"
          ]
        }
      ]
    },
    {
      "cell_type": "code",
      "source": [
        "#Check if the string is numeric using list comprehension\n",
        "s = \"1234\"\n",
        "is_numeric = all([x.isdigit() or x in [\"-\", \".\"] for x in s])\n",
        "print(is_numeric) "
      ],
      "metadata": {
        "colab": {
          "base_uri": "https://localhost:8080/"
        },
        "id": "LPhjmi0J5pkc",
        "outputId": "8c44ef83-fae7-477d-8f04-8e954b0c12be"
      },
      "execution_count": null,
      "outputs": [
        {
          "output_type": "stream",
          "name": "stdout",
          "text": [
            "True\n"
          ]
        }
      ]
    },
    {
      "cell_type": "markdown",
      "source": [
        "**c.  Sort a list of tuples having fruit names and their quantity. [(\"mango\",99),(\"orange\",80), (\"grapes\", 1000)]**"
      ],
      "metadata": {
        "id": "4oE2M01izkzf"
      }
    },
    {
      "cell_type": "code",
      "source": [
        "#Sort a list of tuples having fruit names and their quantity using lambda\n",
        "fruits = [(\"mango\", 99), (\"orange\", 80), (\"grapes\", 1000)]\n",
        "sorted_fruits=sorted(fruits,key=lambda x:x[1])\n",
        "print(sorted_fruits)\n",
        "\n",
        "# Sort fruits by their names\n",
        "\n",
        "sorted_fruits=sorted(fruits,key=lambda x:x[0])\n",
        "print(sorted_fruits)"
      ],
      "metadata": {
        "colab": {
          "base_uri": "https://localhost:8080/"
        },
        "id": "vtjZDNeszs0c",
        "outputId": "cc857b97-4a22-43b3-ad89-90372b33878e"
      },
      "execution_count": null,
      "outputs": [
        {
          "output_type": "stream",
          "name": "stdout",
          "text": [
            "[('orange', 80), ('mango', 99), ('grapes', 1000)]\n",
            "[('grapes', 1000), ('mango', 99), ('orange', 80)]\n"
          ]
        }
      ]
    },
    {
      "cell_type": "code",
      "source": [
        "#Sort a list of tuples having fruit names and their quantity using filter\n",
        "fruits = [(\"mango\", 99), (\"orange\", 80), (\"grapes\", 1000)]\n",
        "values = list(filter(lambda x: isinstance(x[1], int), fruits))\n",
        "sorted_values = sorted(values, key=lambda x: x[1])\n",
        "print(sorted_values)"
      ],
      "metadata": {
        "colab": {
          "base_uri": "https://localhost:8080/"
        },
        "id": "FJCzLQkX734Z",
        "outputId": "d6075341-cbe9-4a66-e8c1-81c4adef2dd4"
      },
      "execution_count": null,
      "outputs": [
        {
          "output_type": "stream",
          "name": "stdout",
          "text": [
            "[('orange', 80), ('mango', 99), ('grapes', 1000)]\n"
          ]
        }
      ]
    },
    {
      "cell_type": "markdown",
      "source": [
        "**d.  Find the squares of numbers from 1 to 10**"
      ],
      "metadata": {
        "id": "ezlT0An8ztRI"
      }
    },
    {
      "cell_type": "code",
      "source": [
        "# Find the squares of numbers from 1 to 10  using lambda\n",
        "list(map(lambda x:x**2, range(1,11)))"
      ],
      "metadata": {
        "colab": {
          "base_uri": "https://localhost:8080/"
        },
        "id": "_WqYLcYGzy_S",
        "outputId": "cdc0551d-e40c-4e3d-8ae5-94e494ef70d7"
      },
      "execution_count": null,
      "outputs": [
        {
          "output_type": "execute_result",
          "data": {
            "text/plain": [
              "[1, 4, 9, 16, 25, 36, 49, 64, 81, 100]"
            ]
          },
          "metadata": {},
          "execution_count": 12
        }
      ]
    },
    {
      "cell_type": "code",
      "source": [
        "# Find the squares of numbers from 1 to 10 using list comprehension\n",
        "sq=[x**2 for x in range(1,11)]\n",
        "print(sq)"
      ],
      "metadata": {
        "colab": {
          "base_uri": "https://localhost:8080/"
        },
        "id": "kViKBK_lCgeH",
        "outputId": "5baad6c7-e42b-4bfa-b265-babf41e3f236"
      },
      "execution_count": null,
      "outputs": [
        {
          "output_type": "stream",
          "name": "stdout",
          "text": [
            "[1, 4, 9, 16, 25, 36, 49, 64, 81, 100]\n"
          ]
        }
      ]
    },
    {
      "cell_type": "markdown",
      "source": [
        "**e.  Find the cube root of numbers from 1 to 10**"
      ],
      "metadata": {
        "id": "umVoQChkzzWY"
      }
    },
    {
      "cell_type": "code",
      "source": [
        "#Find the cube root of numbers from 1 to 10 using lambda\n",
        "list(map(lambda x: x**3,range(1,11)))\n"
      ],
      "metadata": {
        "colab": {
          "base_uri": "https://localhost:8080/"
        },
        "id": "L36E4Yd4z4OA",
        "outputId": "9b33d898-1c9e-4e0c-a21f-ffa5253883b8"
      },
      "execution_count": null,
      "outputs": [
        {
          "output_type": "execute_result",
          "data": {
            "text/plain": [
              "[1, 8, 27, 64, 125, 216, 343, 512, 729, 1000]"
            ]
          },
          "metadata": {},
          "execution_count": 14
        }
      ]
    },
    {
      "cell_type": "code",
      "source": [
        "#Find the cube root of numbers from 1 to 10 using list comprehension\n",
        "cube=[x**3 for x in range(1,11)]\n",
        "cube"
      ],
      "metadata": {
        "colab": {
          "base_uri": "https://localhost:8080/"
        },
        "id": "9DDlMghbE019",
        "outputId": "ca794b7c-0e4f-4e2c-c602-f0a3c71c86c7"
      },
      "execution_count": null,
      "outputs": [
        {
          "output_type": "execute_result",
          "data": {
            "text/plain": [
              "[1, 8, 27, 64, 125, 216, 343, 512, 729, 1000]"
            ]
          },
          "metadata": {},
          "execution_count": 15
        }
      ]
    },
    {
      "cell_type": "markdown",
      "source": [
        "**f.  Check if a given number is even**"
      ],
      "metadata": {
        "id": "Lvy7yL0Nz4tC"
      }
    },
    {
      "cell_type": "code",
      "source": [
        "#Check if a given number is even using lambda\n",
        "lis=286\n",
        "even=lambda x: \"Even\" if (x%2==0) else \"Odd\"\n",
        "print(even(lis))"
      ],
      "metadata": {
        "colab": {
          "base_uri": "https://localhost:8080/"
        },
        "id": "-fbr-dEnz-G7",
        "outputId": "5b54e2c2-3ad6-4ad4-8fc5-8b3005d565d0"
      },
      "execution_count": null,
      "outputs": [
        {
          "output_type": "stream",
          "name": "stdout",
          "text": [
            "Even\n"
          ]
        }
      ]
    },
    {
      "cell_type": "code",
      "source": [
        "#Check if a given number is even using list comprehension\n",
        "lis=[10, 21, 4, 45, 66, 93]\n",
        "[num for num in lis if num % 2 == 0]"
      ],
      "metadata": {
        "colab": {
          "base_uri": "https://localhost:8080/"
        },
        "id": "pXICcQWkF-MH",
        "outputId": "1df2e426-854d-4113-f447-7f0910d24181"
      },
      "execution_count": null,
      "outputs": [
        {
          "output_type": "execute_result",
          "data": {
            "text/plain": [
              "[10, 4, 66]"
            ]
          },
          "metadata": {},
          "execution_count": 17
        }
      ]
    },
    {
      "cell_type": "markdown",
      "source": [
        "**g. Filter odd numbers from the given list.[1,2,3,4,5,6,7,8,9,10]**"
      ],
      "metadata": {
        "id": "wmkNVGLJz-b1"
      }
    },
    {
      "cell_type": "code",
      "source": [
        "#Filter odd numbers from the given list using filter & lambda\n",
        "lis=[1,2,3,4,5,6,7,8,9,10]\n",
        "odd=list(filter(lambda x: (x % 2 != 0), lis))\n",
        "print(odd)"
      ],
      "metadata": {
        "colab": {
          "base_uri": "https://localhost:8080/"
        },
        "id": "L5lS-uvB0G3B",
        "outputId": "811c600e-41f8-49ee-82b7-9601075af613"
      },
      "execution_count": null,
      "outputs": [
        {
          "output_type": "stream",
          "name": "stdout",
          "text": [
            "[1, 3, 5, 7, 9]\n"
          ]
        }
      ]
    },
    {
      "cell_type": "code",
      "source": [
        "#Filter odd numbers from the given list using list comprehension\n",
        "odd=[num for num in lis if num % 2 == 1]\n",
        "print(odd)"
      ],
      "metadata": {
        "colab": {
          "base_uri": "https://localhost:8080/"
        },
        "id": "Xg9rRAObKr4l",
        "outputId": "85a63185-7970-4cbf-a92b-aca0906d67cc"
      },
      "execution_count": null,
      "outputs": [
        {
          "output_type": "stream",
          "name": "stdout",
          "text": [
            "[1, 3, 5, 7, 9]\n"
          ]
        }
      ]
    },
    {
      "cell_type": "markdown",
      "source": [
        "**h.  Sort a list of integers into positive and negative integers lists.[1,2,3,4,5,6,-1,-2,-3,-4,-5,0]**"
      ],
      "metadata": {
        "id": "2fBHekP10HQo"
      }
    },
    {
      "cell_type": "code",
      "source": [
        "# Sort a list of integers into positive and negative integers lists using lambda and filter\n",
        "lst=[1,2,3,4,5,6,-1,-2,-3,-4,-5,0]\n",
        "positive_lst = list(filter(lambda x: x > 0, lst))\n",
        "negative_lst = list(filter(lambda x: x < 0, lst))\n",
        "print(\"Positive list :\",positive_lst)\n",
        "print(\"Negative list :\",negative_lst)"
      ],
      "metadata": {
        "colab": {
          "base_uri": "https://localhost:8080/"
        },
        "id": "_zvkBtoa0N3X",
        "outputId": "f44d6dba-e87d-4b18-bc31-3fc028014ef1"
      },
      "execution_count": null,
      "outputs": [
        {
          "output_type": "stream",
          "name": "stdout",
          "text": [
            "Positive list : [1, 2, 3, 4, 5, 6]\n",
            "Negative list : [-1, -2, -3, -4, -5]\n"
          ]
        }
      ]
    },
    {
      "cell_type": "code",
      "source": [
        "# Sort a list of integers into positive and negative integers lists using list comprehension\n",
        "positive_lst = list(filter(lambda x: x > 0, lst))\n",
        "negative_lst = list(filter(lambda x: x < 0, lst))\n",
        "print(\"Positive list :\",positive_lst)\n",
        "print(\"Negative list :\",negative_lst)"
      ],
      "metadata": {
        "colab": {
          "base_uri": "https://localhost:8080/"
        },
        "id": "S9FD6g2vLd2H",
        "outputId": "ec7c34ab-16c0-41be-8d37-fe05afcbfa46"
      },
      "execution_count": null,
      "outputs": [
        {
          "output_type": "stream",
          "name": "stdout",
          "text": [
            "Positive list : [1, 2, 3, 4, 5, 6]\n",
            "Negative list : [-1, -2, -3, -4, -5]\n"
          ]
        }
      ]
    },
    {
      "cell_type": "code",
      "source": [],
      "metadata": {
        "id": "erbx3zFpL-dD"
      },
      "execution_count": null,
      "outputs": []
    }
  ]
}