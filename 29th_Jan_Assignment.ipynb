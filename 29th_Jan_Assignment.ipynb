{
  "nbformat": 4,
  "nbformat_minor": 0,
  "metadata": {
    "colab": {
      "provenance": [],
      "authorship_tag": "ABX9TyPdHN6h+RHxQpffP9jjhfYY",
      "include_colab_link": true
    },
    "kernelspec": {
      "name": "python3",
      "display_name": "Python 3"
    },
    "language_info": {
      "name": "python"
    }
  },
  "cells": [
    {
      "cell_type": "markdown",
      "metadata": {
        "id": "view-in-github",
        "colab_type": "text"
      },
      "source": [
        "<a href=\"https://colab.research.google.com/github/NeeluDevi/assignment1/blob/main/29th_Jan_Assignment.ipynb\" target=\"_parent\"><img src=\"https://colab.research.google.com/assets/colab-badge.svg\" alt=\"Open In Colab\"/></a>"
      ]
    },
    {
      "cell_type": "markdown",
      "source": [
        "**1. Who developed Python Programming Language?**"
      ],
      "metadata": {
        "id": "OMVm-HZB8tz_"
      }
    },
    {
      "cell_type": "markdown",
      "source": [
        "**Ans. :**  Python was created by Guido Van Rossum, and first released on February 20, 1991. "
      ],
      "metadata": {
        "id": "vZZy54tX85by"
      }
    },
    {
      "cell_type": "markdown",
      "source": [
        "**2. Which type of Programming does support Python?**"
      ],
      "metadata": {
        "id": "yvV69ifc9WQ3"
      }
    },
    {
      "cell_type": "markdown",
      "source": [
        "**Ans. :**  Python is an interpreted programming language, supporting structured ,object-oriented and functional programming."
      ],
      "metadata": {
        "id": "6dP406XD9jsH"
      }
    },
    {
      "cell_type": "markdown",
      "source": [
        "**3. Is Python case sensitive when dealing with identifiers?**"
      ],
      "metadata": {
        "id": "nnBWOHQg-agI"
      }
    },
    {
      "cell_type": "markdown",
      "source": [
        "**Ans. :**  Yes, Python is a case sensitive language when it comes to the identifiers like variable name,function name,class name etc."
      ],
      "metadata": {
        "id": "Ga5RmKif-ljY"
      }
    },
    {
      "cell_type": "markdown",
      "source": [
        "**4. What is the correct extension of the Python file?**"
      ],
      "metadata": {
        "id": "aa67sa66_GfN"
      }
    },
    {
      "cell_type": "markdown",
      "source": [
        "**Ans. :**  The extension for Python file is .py   like filename is hello then, hello.py"
      ],
      "metadata": {
        "id": "xLytVtCV_TKt"
      }
    },
    {
      "cell_type": "markdown",
      "source": [
        "**5. Is Python code is compiled or interpreted?**"
      ],
      "metadata": {
        "id": "hg0bPOOl_tR8"
      }
    },
    {
      "cell_type": "markdown",
      "source": [
        "**Ans. :**   Python is an interpreted, which means that python code is executed line by line at runtime."
      ],
      "metadata": {
        "id": "cmfJ6a7t_-R2"
      }
    },
    {
      "cell_type": "markdown",
      "source": [
        "**6. Name a few blocks of code used to define Python language?**"
      ],
      "metadata": {
        "id": "XzSDApmcAvEa"
      }
    },
    {
      "cell_type": "markdown",
      "source": [
        "**Ans. :**  \n",
        "\n",
        "1.   **def**-  used for define a function in python.\n",
        "2.   **if,elif,else**-  used for conditional statements.\n",
        "3.   **for,while-**  used for iterates over sequence of values.\n",
        "4.   **class**-  used for define a class in python.\n",
        "5.   **import**-   used for importing a module in python.\n",
        "\n",
        "\n",
        "\n",
        "\n",
        "\n",
        "\n"
      ],
      "metadata": {
        "id": "hh89fEufA_93"
      }
    },
    {
      "cell_type": "markdown",
      "source": [
        "**7. State a character used to give single-line comment in python?**"
      ],
      "metadata": {
        "id": "wdjKe2SpB94O"
      }
    },
    {
      "cell_type": "markdown",
      "source": [
        "**Ans. :**  # is used to give single-line comment in python."
      ],
      "metadata": {
        "id": "EuXClXWvCcZV"
      }
    },
    {
      "cell_type": "markdown",
      "source": [
        "**8. Mention functions which can help us to find the version of Python that we are currently working on?**"
      ],
      "metadata": {
        "id": "s6vM_h8SCs7F"
      }
    },
    {
      "cell_type": "markdown",
      "source": [
        "**Ans. :**  sys.version can help us to find the current working python version."
      ],
      "metadata": {
        "id": "TqfoWrwMDQOP"
      }
    },
    {
      "cell_type": "markdown",
      "source": [
        "**9. Python supports the creation of anonymous function at runtime , using a construct called____**"
      ],
      "metadata": {
        "id": "et7txnb2Dxo-"
      }
    },
    {
      "cell_type": "markdown",
      "source": [
        "**Ans. :**   using lambda expression we can create anonymous function in python."
      ],
      "metadata": {
        "id": "4_KtNd8UEGk1"
      }
    },
    {
      "cell_type": "markdown",
      "source": [
        "**10. What does pip stands for python?**"
      ],
      "metadata": {
        "id": "vVcNC_D6EgG4"
      }
    },
    {
      "cell_type": "markdown",
      "source": [
        "**Ans. :** pip stands for Pip Install Packages."
      ],
      "metadata": {
        "id": "4yvuP68jEnRd"
      }
    },
    {
      "cell_type": "markdown",
      "source": [
        "**11. Mention a few built-in functions in python?**"
      ],
      "metadata": {
        "id": "lFkz7MCfE5hk"
      }
    },
    {
      "cell_type": "markdown",
      "source": [
        "**Ans. :**  Some built-in functions\n",
        "\n",
        "1.   max()-  used to find the maximum value. \n",
        "2.   min()-  used to find minimum values.\n",
        "3.   range()- returns a sequence of numbers.\n",
        "4.   sort()-  used to sort the values in any order.\n",
        "5.   sum()-  used to find the sum of values.\n",
        "6.   count()- used to count the all values.\n",
        "\n"
      ],
      "metadata": {
        "id": "dOVtyEYnFDlc"
      }
    },
    {
      "cell_type": "markdown",
      "source": [
        "**12. What is the maximum possible length of an identifier in python?**"
      ],
      "metadata": {
        "id": "BB9OGlyOGhTF"
      }
    },
    {
      "cell_type": "markdown",
      "source": [
        "**Ans. :** The default is 31 characters. This is also the minimum length you can specify. The maximum is 256 characters"
      ],
      "metadata": {
        "id": "xxdCnMyhGz9J"
      }
    },
    {
      "cell_type": "markdown",
      "source": [
        "**13. What are the benefits of using Python?**"
      ],
      "metadata": {
        "id": "lWuHuVfGHN_Y"
      }
    },
    {
      "cell_type": "markdown",
      "source": [
        "**Ans. :**  Benefits of using Python\n",
        "\n",
        "1.   Simple and Easy to understand. \n",
        "2.   Interpreted Language\n",
        "3.   Dynamically typed language\n",
        "4.   Free and open source\n",
        "5.   Portable\n",
        "6.   Provide third party libraries and frameworks.\n",
        "\n",
        "\n",
        "\n",
        "\n",
        "\n"
      ],
      "metadata": {
        "id": "pzuzvIo1HWD7"
      }
    },
    {
      "cell_type": "markdown",
      "source": [
        "**14. How is memory managed in python?**"
      ],
      "metadata": {
        "id": "awgIh4HTISi6"
      }
    },
    {
      "cell_type": "markdown",
      "source": [
        "**Ans :**  Memory in Python is managed by Python private heap space. All Python objects and data structures are located in a private heap."
      ],
      "metadata": {
        "id": "eDk9mED8IZlH"
      }
    },
    {
      "cell_type": "markdown",
      "source": [
        "**15. How to install Python on windows and set path variables?**"
      ],
      "metadata": {
        "id": "yxsFCoz4Ipdw"
      }
    },
    {
      "cell_type": "markdown",
      "source": [
        "**Ans. :**  a. Open the Start menu and search for \"Environment Variables\".\n",
        "\n",
        "b. Click on \"Edit the system environment variables\".\n",
        "\n",
        "c. Click on the \"Environment Variables\" button.\n",
        "\n",
        "d. In the \"System Variables\" section, scroll down and select the \"Path\" variable, then click on \"Edit\".\n",
        "\n",
        "e. Add the path to the Python installation directory to the list of paths, separated by a semicolon. For example, if you installed Python in the default location, the path would be \"C:\\Python39\".\n",
        "\n",
        "f. Click \"OK\" on all the windows to close them and save the changes.\n"
      ],
      "metadata": {
        "id": "WVJ0sT8rI0SQ"
      }
    },
    {
      "cell_type": "markdown",
      "source": [
        "**16. Is indentation required in Python?**"
      ],
      "metadata": {
        "id": "26Qifn0CJZPp"
      }
    },
    {
      "cell_type": "markdown",
      "source": [
        "**Ans. :** The indentation in Python is very important."
      ],
      "metadata": {
        "id": "kFHoaJAwJlj5"
      }
    }
  ]
}