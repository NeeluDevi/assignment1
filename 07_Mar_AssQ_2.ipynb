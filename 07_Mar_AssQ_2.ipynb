{
  "nbformat": 4,
  "nbformat_minor": 0,
  "metadata": {
    "colab": {
      "provenance": [],
      "authorship_tag": "ABX9TyNeEDVYd7aBcCOvOmGI/vm7",
      "include_colab_link": true
    },
    "kernelspec": {
      "name": "python3",
      "display_name": "Python 3"
    },
    "language_info": {
      "name": "python"
    }
  },
  "cells": [
    {
      "cell_type": "markdown",
      "metadata": {
        "id": "view-in-github",
        "colab_type": "text"
      },
      "source": [
        "<a href=\"https://colab.research.google.com/github/NeeluDevi/assignment1/blob/main/07_Mar_AssQ_2.ipynb\" target=\"_parent\"><img src=\"https://colab.research.google.com/assets/colab-badge.svg\" alt=\"Open In Colab\"/></a>"
      ]
    },
    {
      "cell_type": "markdown",
      "source": [
        "**Q1. What are the three measures of central tendency?**"
      ],
      "metadata": {
        "id": "bUZpHNcE7otu"
      }
    },
    {
      "cell_type": "markdown",
      "source": [
        "1. Mean()\n",
        "2. median()\n",
        "3. mode()"
      ],
      "metadata": {
        "id": "oDQg-OUf7sgt"
      }
    },
    {
      "cell_type": "markdown",
      "source": [
        "**Q2. What is the difference between the mean, median, and mode? How are they used to measure the\n",
        "central tendency of a dataset?**"
      ],
      "metadata": {
        "id": "SEXlTQ3r77Qj"
      }
    },
    {
      "cell_type": "markdown",
      "source": [
        "**mean()-** it is the average of all elements.\n",
        "**formula :**sum of all elements/size of elements"
      ],
      "metadata": {
        "id": "a6Oirh1a8CdT"
      }
    },
    {
      "cell_type": "markdown",
      "source": [
        "**median -** The median is the middle value when a data set is ordered from least to greatest .\n",
        "**Formula: if count=even then median=sum of 2 middle elements/2\n",
        "if count=odd then median=midlle element**"
      ],
      "metadata": {
        "id": "Yi-PEMpx8hiC"
      }
    },
    {
      "cell_type": "markdown",
      "source": [
        "**mode()-**The mode is the number that occurs most often in a data set."
      ],
      "metadata": {
        "id": "PJyFjhht8wVF"
      }
    },
    {
      "cell_type": "code",
      "execution_count": null,
      "metadata": {
        "id": "HmM_FQhR7ggN"
      },
      "outputs": [],
      "source": [
        "import seaborn as sns\n"
      ]
    },
    {
      "cell_type": "code",
      "source": [
        "df=sns.load_dataset('tips')"
      ],
      "metadata": {
        "id": "r26oBskn99bZ"
      },
      "execution_count": null,
      "outputs": []
    },
    {
      "cell_type": "code",
      "source": [
        "df.head()"
      ],
      "metadata": {
        "colab": {
          "base_uri": "https://localhost:8080/",
          "height": 206
        },
        "id": "HgI1KWAC-Ckb",
        "outputId": "96207a12-900a-40bc-ce9c-cad5c7e5153f"
      },
      "execution_count": null,
      "outputs": [
        {
          "output_type": "execute_result",
          "data": {
            "text/plain": [
              "   total_bill   tip     sex smoker  day    time  size\n",
              "0       16.99  1.01  Female     No  Sun  Dinner     2\n",
              "1       10.34  1.66    Male     No  Sun  Dinner     3\n",
              "2       21.01  3.50    Male     No  Sun  Dinner     3\n",
              "3       23.68  3.31    Male     No  Sun  Dinner     2\n",
              "4       24.59  3.61  Female     No  Sun  Dinner     4"
            ],
            "text/html": [
              "\n",
              "  <div id=\"df-8fa87fd5-1dd9-46ee-a1a5-4decdcd86206\">\n",
              "    <div class=\"colab-df-container\">\n",
              "      <div>\n",
              "<style scoped>\n",
              "    .dataframe tbody tr th:only-of-type {\n",
              "        vertical-align: middle;\n",
              "    }\n",
              "\n",
              "    .dataframe tbody tr th {\n",
              "        vertical-align: top;\n",
              "    }\n",
              "\n",
              "    .dataframe thead th {\n",
              "        text-align: right;\n",
              "    }\n",
              "</style>\n",
              "<table border=\"1\" class=\"dataframe\">\n",
              "  <thead>\n",
              "    <tr style=\"text-align: right;\">\n",
              "      <th></th>\n",
              "      <th>total_bill</th>\n",
              "      <th>tip</th>\n",
              "      <th>sex</th>\n",
              "      <th>smoker</th>\n",
              "      <th>day</th>\n",
              "      <th>time</th>\n",
              "      <th>size</th>\n",
              "    </tr>\n",
              "  </thead>\n",
              "  <tbody>\n",
              "    <tr>\n",
              "      <th>0</th>\n",
              "      <td>16.99</td>\n",
              "      <td>1.01</td>\n",
              "      <td>Female</td>\n",
              "      <td>No</td>\n",
              "      <td>Sun</td>\n",
              "      <td>Dinner</td>\n",
              "      <td>2</td>\n",
              "    </tr>\n",
              "    <tr>\n",
              "      <th>1</th>\n",
              "      <td>10.34</td>\n",
              "      <td>1.66</td>\n",
              "      <td>Male</td>\n",
              "      <td>No</td>\n",
              "      <td>Sun</td>\n",
              "      <td>Dinner</td>\n",
              "      <td>3</td>\n",
              "    </tr>\n",
              "    <tr>\n",
              "      <th>2</th>\n",
              "      <td>21.01</td>\n",
              "      <td>3.50</td>\n",
              "      <td>Male</td>\n",
              "      <td>No</td>\n",
              "      <td>Sun</td>\n",
              "      <td>Dinner</td>\n",
              "      <td>3</td>\n",
              "    </tr>\n",
              "    <tr>\n",
              "      <th>3</th>\n",
              "      <td>23.68</td>\n",
              "      <td>3.31</td>\n",
              "      <td>Male</td>\n",
              "      <td>No</td>\n",
              "      <td>Sun</td>\n",
              "      <td>Dinner</td>\n",
              "      <td>2</td>\n",
              "    </tr>\n",
              "    <tr>\n",
              "      <th>4</th>\n",
              "      <td>24.59</td>\n",
              "      <td>3.61</td>\n",
              "      <td>Female</td>\n",
              "      <td>No</td>\n",
              "      <td>Sun</td>\n",
              "      <td>Dinner</td>\n",
              "      <td>4</td>\n",
              "    </tr>\n",
              "  </tbody>\n",
              "</table>\n",
              "</div>\n",
              "      <button class=\"colab-df-convert\" onclick=\"convertToInteractive('df-8fa87fd5-1dd9-46ee-a1a5-4decdcd86206')\"\n",
              "              title=\"Convert this dataframe to an interactive table.\"\n",
              "              style=\"display:none;\">\n",
              "        \n",
              "  <svg xmlns=\"http://www.w3.org/2000/svg\" height=\"24px\"viewBox=\"0 0 24 24\"\n",
              "       width=\"24px\">\n",
              "    <path d=\"M0 0h24v24H0V0z\" fill=\"none\"/>\n",
              "    <path d=\"M18.56 5.44l.94 2.06.94-2.06 2.06-.94-2.06-.94-.94-2.06-.94 2.06-2.06.94zm-11 1L8.5 8.5l.94-2.06 2.06-.94-2.06-.94L8.5 2.5l-.94 2.06-2.06.94zm10 10l.94 2.06.94-2.06 2.06-.94-2.06-.94-.94-2.06-.94 2.06-2.06.94z\"/><path d=\"M17.41 7.96l-1.37-1.37c-.4-.4-.92-.59-1.43-.59-.52 0-1.04.2-1.43.59L10.3 9.45l-7.72 7.72c-.78.78-.78 2.05 0 2.83L4 21.41c.39.39.9.59 1.41.59.51 0 1.02-.2 1.41-.59l7.78-7.78 2.81-2.81c.8-.78.8-2.07 0-2.86zM5.41 20L4 18.59l7.72-7.72 1.47 1.35L5.41 20z\"/>\n",
              "  </svg>\n",
              "      </button>\n",
              "      \n",
              "  <style>\n",
              "    .colab-df-container {\n",
              "      display:flex;\n",
              "      flex-wrap:wrap;\n",
              "      gap: 12px;\n",
              "    }\n",
              "\n",
              "    .colab-df-convert {\n",
              "      background-color: #E8F0FE;\n",
              "      border: none;\n",
              "      border-radius: 50%;\n",
              "      cursor: pointer;\n",
              "      display: none;\n",
              "      fill: #1967D2;\n",
              "      height: 32px;\n",
              "      padding: 0 0 0 0;\n",
              "      width: 32px;\n",
              "    }\n",
              "\n",
              "    .colab-df-convert:hover {\n",
              "      background-color: #E2EBFA;\n",
              "      box-shadow: 0px 1px 2px rgba(60, 64, 67, 0.3), 0px 1px 3px 1px rgba(60, 64, 67, 0.15);\n",
              "      fill: #174EA6;\n",
              "    }\n",
              "\n",
              "    [theme=dark] .colab-df-convert {\n",
              "      background-color: #3B4455;\n",
              "      fill: #D2E3FC;\n",
              "    }\n",
              "\n",
              "    [theme=dark] .colab-df-convert:hover {\n",
              "      background-color: #434B5C;\n",
              "      box-shadow: 0px 1px 3px 1px rgba(0, 0, 0, 0.15);\n",
              "      filter: drop-shadow(0px 1px 2px rgba(0, 0, 0, 0.3));\n",
              "      fill: #FFFFFF;\n",
              "    }\n",
              "  </style>\n",
              "\n",
              "      <script>\n",
              "        const buttonEl =\n",
              "          document.querySelector('#df-8fa87fd5-1dd9-46ee-a1a5-4decdcd86206 button.colab-df-convert');\n",
              "        buttonEl.style.display =\n",
              "          google.colab.kernel.accessAllowed ? 'block' : 'none';\n",
              "\n",
              "        async function convertToInteractive(key) {\n",
              "          const element = document.querySelector('#df-8fa87fd5-1dd9-46ee-a1a5-4decdcd86206');\n",
              "          const dataTable =\n",
              "            await google.colab.kernel.invokeFunction('convertToInteractive',\n",
              "                                                     [key], {});\n",
              "          if (!dataTable) return;\n",
              "\n",
              "          const docLinkHtml = 'Like what you see? Visit the ' +\n",
              "            '<a target=\"_blank\" href=https://colab.research.google.com/notebooks/data_table.ipynb>data table notebook</a>'\n",
              "            + ' to learn more about interactive tables.';\n",
              "          element.innerHTML = '';\n",
              "          dataTable['output_type'] = 'display_data';\n",
              "          await google.colab.output.renderOutput(dataTable, element);\n",
              "          const docLink = document.createElement('div');\n",
              "          docLink.innerHTML = docLinkHtml;\n",
              "          element.appendChild(docLink);\n",
              "        }\n",
              "      </script>\n",
              "    </div>\n",
              "  </div>\n",
              "  "
            ]
          },
          "metadata": {},
          "execution_count": 3
        }
      ]
    },
    {
      "cell_type": "code",
      "source": [
        "df['total_bill'].mean()"
      ],
      "metadata": {
        "colab": {
          "base_uri": "https://localhost:8080/"
        },
        "id": "MfxwZ83K-DrJ",
        "outputId": "94675adf-3293-4e87-a728-5d463121362c"
      },
      "execution_count": null,
      "outputs": [
        {
          "output_type": "execute_result",
          "data": {
            "text/plain": [
              "19.78594262295082"
            ]
          },
          "metadata": {},
          "execution_count": 4
        }
      ]
    },
    {
      "cell_type": "code",
      "source": [
        "df['total_bill'].median()"
      ],
      "metadata": {
        "colab": {
          "base_uri": "https://localhost:8080/"
        },
        "id": "4pu5fn18-JBM",
        "outputId": "64a17ef0-21ab-4453-bece-8329fb8a6d26"
      },
      "execution_count": null,
      "outputs": [
        {
          "output_type": "execute_result",
          "data": {
            "text/plain": [
              "17.795"
            ]
          },
          "metadata": {},
          "execution_count": 5
        }
      ]
    },
    {
      "cell_type": "code",
      "source": [
        "df['total_bill'].mode()"
      ],
      "metadata": {
        "colab": {
          "base_uri": "https://localhost:8080/"
        },
        "id": "B51edz2w-Khd",
        "outputId": "0e29f50c-1dd1-4313-98e8-071b783077fe"
      },
      "execution_count": null,
      "outputs": [
        {
          "output_type": "execute_result",
          "data": {
            "text/plain": [
              "0    13.42\n",
              "Name: total_bill, dtype: float64"
            ]
          },
          "metadata": {},
          "execution_count": 6
        }
      ]
    },
    {
      "cell_type": "markdown",
      "source": [
        "**Q3. Measure the three measures of central tendency for the given height data:\n",
        "[178,177,176,177,178.2,178,175,179,180,175,178.9,176.2,177,172.5,178,176.5]**"
      ],
      "metadata": {
        "id": "leJkXOdI-p3m"
      }
    },
    {
      "cell_type": "code",
      "source": [
        "data=[178,177,176,177,178.2,178,175,179,180,175,178.9,176.2,177,172.5,178,176.5]"
      ],
      "metadata": {
        "id": "V80ET59j-LYr"
      },
      "execution_count": null,
      "outputs": []
    },
    {
      "cell_type": "code",
      "source": [
        "import numpy as np\n",
        "import statistics as stat\n",
        "import pandas as pd\n",
        "ndata=np.array(data)"
      ],
      "metadata": {
        "id": "quKh0xJ4-yY_"
      },
      "execution_count": null,
      "outputs": []
    },
    {
      "cell_type": "code",
      "source": [
        "ndata"
      ],
      "metadata": {
        "colab": {
          "base_uri": "https://localhost:8080/"
        },
        "id": "GKwZpV5t-zI2",
        "outputId": "057070de-e1cb-4dce-acd9-6912c27bf6e2"
      },
      "execution_count": null,
      "outputs": [
        {
          "output_type": "execute_result",
          "data": {
            "text/plain": [
              "array([178. , 177. , 176. , 177. , 178.2, 178. , 175. , 179. , 180. ,\n",
              "       175. , 178.9, 176.2, 177. , 172.5, 178. , 176.5])"
            ]
          },
          "metadata": {},
          "execution_count": 9
        }
      ]
    },
    {
      "cell_type": "code",
      "source": [
        "np.mean(ndata)"
      ],
      "metadata": {
        "colab": {
          "base_uri": "https://localhost:8080/"
        },
        "id": "ntvtYwiY-0qG",
        "outputId": "b7832ba7-b126-4869-c41b-f3908f94a014"
      },
      "execution_count": null,
      "outputs": [
        {
          "output_type": "execute_result",
          "data": {
            "text/plain": [
              "177.01875"
            ]
          },
          "metadata": {},
          "execution_count": 10
        }
      ]
    },
    {
      "cell_type": "code",
      "source": [
        "np.median(ndata)"
      ],
      "metadata": {
        "colab": {
          "base_uri": "https://localhost:8080/"
        },
        "id": "9SFB_ypw_LAA",
        "outputId": "4b8b00f8-4a52-4005-c749-c6c5c228e311"
      },
      "execution_count": null,
      "outputs": [
        {
          "output_type": "execute_result",
          "data": {
            "text/plain": [
              "177.0"
            ]
          },
          "metadata": {},
          "execution_count": 11
        }
      ]
    },
    {
      "cell_type": "code",
      "source": [
        "stat.mode(ndata)"
      ],
      "metadata": {
        "colab": {
          "base_uri": "https://localhost:8080/"
        },
        "id": "JjUHUEJk_jUO",
        "outputId": "bdcda4d8-f361-4f1a-ab28-80dd48436bb1"
      },
      "execution_count": null,
      "outputs": [
        {
          "output_type": "execute_result",
          "data": {
            "text/plain": [
              "178.0"
            ]
          },
          "metadata": {},
          "execution_count": 12
        }
      ]
    },
    {
      "cell_type": "markdown",
      "source": [
        "**Q4. Find the standard deviation for the given data:\n",
        "[178,177,176,177,178.2,178,175,179,180,175,178.9,176.2,177,172.5,178,176.5]**"
      ],
      "metadata": {
        "id": "YRrMVUy3A6WT"
      }
    },
    {
      "cell_type": "code",
      "source": [
        "data=[178,177,176,177,178.2,178,175,179,180,175,178.9,176.2,177,172.5,178,176.5]"
      ],
      "metadata": {
        "id": "ZWxXfgxM_obf"
      },
      "execution_count": null,
      "outputs": []
    },
    {
      "cell_type": "code",
      "source": [
        "data=np.array(data)"
      ],
      "metadata": {
        "id": "SHsagK3oA_Dh"
      },
      "execution_count": null,
      "outputs": []
    },
    {
      "cell_type": "code",
      "source": [
        "data"
      ],
      "metadata": {
        "colab": {
          "base_uri": "https://localhost:8080/"
        },
        "id": "q4CMAwtjBA4h",
        "outputId": "fc21b631-c2ff-4461-b0ed-cefdf412f693"
      },
      "execution_count": null,
      "outputs": [
        {
          "output_type": "execute_result",
          "data": {
            "text/plain": [
              "array([178. , 177. , 176. , 177. , 178.2, 178. , 175. , 179. , 180. ,\n",
              "       175. , 178.9, 176.2, 177. , 172.5, 178. , 176.5])"
            ]
          },
          "metadata": {},
          "execution_count": 15
        }
      ]
    },
    {
      "cell_type": "code",
      "source": [
        "data.std()"
      ],
      "metadata": {
        "colab": {
          "base_uri": "https://localhost:8080/"
        },
        "id": "iloACSDWBqU6",
        "outputId": "9de0efae-859a-4a5b-b2ee-0711a79db91e"
      },
      "execution_count": null,
      "outputs": [
        {
          "output_type": "execute_result",
          "data": {
            "text/plain": [
              "1.7885814036548633"
            ]
          },
          "metadata": {},
          "execution_count": 16
        }
      ]
    },
    {
      "cell_type": "markdown",
      "source": [
        "**Q5. How are measures of dispersion such as range, variance, and standard deviation used to describe\n",
        "the spread of a dataset? Provide an example.**"
      ],
      "metadata": {
        "id": "IPqmhn65B52F"
      }
    },
    {
      "cell_type": "markdown",
      "source": [
        "**range :-**The range is the easiest dispersion of data or measure of variability.To calculate the range, prepare all the values in ascending order, then subtract the lowest value from the highest value.**Range = Highest_value  – Lowest_value** "
      ],
      "metadata": {
        "id": "BOy9UG2aD1kt"
      }
    },
    {
      "cell_type": "markdown",
      "source": [
        "**variance :-**Variance is a simple measure of dispersion. Variance measures how far each number in the dataset from the mean."
      ],
      "metadata": {
        "id": "En4-XFm8FdAC"
      }
    },
    {
      "cell_type": "markdown",
      "source": [
        "**standard deviation :-**Standard deviation is a squared root of the variance to get original values. Low standard deviation indicates data points close to mean."
      ],
      "metadata": {
        "id": "7yxogG4pGdsa"
      }
    },
    {
      "cell_type": "code",
      "source": [
        "# let's consider a dataset of the ages of 10 students in a class: 20, 21, 22, 23, 24, 25, 26, 27, 28, 29.\n",
        "\n",
        "data=np.array([20, 21, 22, 23, 24, 25, 26, 27, 28, 29])\n",
        "data"
      ],
      "metadata": {
        "colab": {
          "base_uri": "https://localhost:8080/"
        },
        "id": "XCRut5GLBti9",
        "outputId": "79fbcf67-0467-4d43-cbd5-c7500cd268d6"
      },
      "execution_count": null,
      "outputs": [
        {
          "output_type": "execute_result",
          "data": {
            "text/plain": [
              "array([20, 21, 22, 23, 24, 25, 26, 27, 28, 29])"
            ]
          },
          "metadata": {},
          "execution_count": 17
        }
      ]
    },
    {
      "cell_type": "code",
      "source": [
        "#calculate range\n",
        "range=np.max(data)-np.min(data)\n",
        "print(\"range:\",range)"
      ],
      "metadata": {
        "colab": {
          "base_uri": "https://localhost:8080/"
        },
        "id": "q0jJiUTJIeDV",
        "outputId": "8271601b-c308-40fb-9454-623c6ae64ca8"
      },
      "execution_count": null,
      "outputs": [
        {
          "output_type": "stream",
          "name": "stdout",
          "text": [
            "range: 9\n"
          ]
        }
      ]
    },
    {
      "cell_type": "code",
      "source": [
        "#calculate variance\n",
        "mean=np.mean(data)\n",
        "variance=np.mean((data-mean)**2)\n",
        "print(\"variance:\",variance)"
      ],
      "metadata": {
        "colab": {
          "base_uri": "https://localhost:8080/"
        },
        "id": "BK9dvtrVJcLr",
        "outputId": "836114d8-ea81-4c92-c115-f59a80e52fad"
      },
      "execution_count": null,
      "outputs": [
        {
          "output_type": "stream",
          "name": "stdout",
          "text": [
            "variance: 8.25\n"
          ]
        }
      ]
    },
    {
      "cell_type": "code",
      "source": [
        "np.std(data)"
      ],
      "metadata": {
        "colab": {
          "base_uri": "https://localhost:8080/"
        },
        "id": "mazOHjvfKJWD",
        "outputId": "ae845c1d-1f7b-4899-8f9a-d0ec344e6220"
      },
      "execution_count": null,
      "outputs": [
        {
          "output_type": "execute_result",
          "data": {
            "text/plain": [
              "2.8722813232690143"
            ]
          },
          "metadata": {},
          "execution_count": 20
        }
      ]
    },
    {
      "cell_type": "code",
      "source": [
        "#calculate standard deviation\n",
        "\n",
        "std=np.sqrt(variance)\n",
        "print(\"Standard deviation :\",std)"
      ],
      "metadata": {
        "colab": {
          "base_uri": "https://localhost:8080/"
        },
        "id": "cK7ZhOkjJyGL",
        "outputId": "5c8bfd9d-f6b7-4de5-e323-b0fb09d3c915"
      },
      "execution_count": null,
      "outputs": [
        {
          "output_type": "stream",
          "name": "stdout",
          "text": [
            "Standard deviation : 2.8722813232690143\n"
          ]
        }
      ]
    },
    {
      "cell_type": "markdown",
      "source": [
        "**Q6. What is a Venn diagram?**"
      ],
      "metadata": {
        "id": "e4tApLU5CBv1"
      }
    },
    {
      "cell_type": "markdown",
      "source": [
        "**Venn diagram :-**A Venn diagram is a widely used diagram style that shows the logical relation between sets."
      ],
      "metadata": {
        "id": "RSD-vbETKcwI"
      }
    },
    {
      "cell_type": "markdown",
      "source": [
        "**Q7. For the two given sets A = (2,3,4,5,6,7) & B = (0,2,6,8,10). Find:\n",
        "(i) A B\n",
        "(ii) A ⋃ B**"
      ],
      "metadata": {
        "id": "tvnELnq-CDvh"
      }
    },
    {
      "cell_type": "code",
      "source": [
        " A = set((2,3,4,5,6,7))\n",
        " B = set((0,2,6,8,10))\n",
        "\n",
        " #intersection \n",
        " inter=A.intersection(B)\n",
        " print(\"Intersection of A and B :\",inter)\n"
      ],
      "metadata": {
        "colab": {
          "base_uri": "https://localhost:8080/"
        },
        "id": "2-14ElNnCG9a",
        "outputId": "c9e7687e-5bdd-4025-873c-76472587f383"
      },
      "execution_count": null,
      "outputs": [
        {
          "output_type": "stream",
          "name": "stdout",
          "text": [
            "Intersection of A and B : {2, 6}\n"
          ]
        }
      ]
    },
    {
      "cell_type": "code",
      "source": [
        "#Union\n",
        "un=A.union(B)\n",
        "print(\"Union of A and B :\",un)"
      ],
      "metadata": {
        "colab": {
          "base_uri": "https://localhost:8080/"
        },
        "id": "GkmN_u7DLgsJ",
        "outputId": "de1f2ef4-69d4-4368-81a4-4993edc80f48"
      },
      "execution_count": null,
      "outputs": [
        {
          "output_type": "stream",
          "name": "stdout",
          "text": [
            "Union of A and B : {0, 2, 3, 4, 5, 6, 7, 8, 10}\n"
          ]
        }
      ]
    },
    {
      "cell_type": "markdown",
      "source": [
        "**Q8. What do you understand about skewness in data?**"
      ],
      "metadata": {
        "id": "FMUGwpU8CUz1"
      }
    },
    {
      "cell_type": "markdown",
      "source": [
        "**Ans :-**Skewness is a measure of the lack of symmetry in a distribution.In a symmetric distribution, the mean, median, and mode are all equal."
      ],
      "metadata": {
        "id": "GXRTPNncMDAz"
      }
    },
    {
      "cell_type": "markdown",
      "source": [
        "**Q9. If a data is right skewed then what will be the position of median with respect to mean?**"
      ],
      "metadata": {
        "id": "fR8gt8rgCW-8"
      }
    },
    {
      "cell_type": "markdown",
      "source": [
        "**Ans :-**If the data is right skewed then the position of median is less than the mean.    \n",
        "**mean>median>mode**"
      ],
      "metadata": {
        "id": "QWyM1aR0Mg4p"
      }
    },
    {
      "cell_type": "markdown",
      "source": [
        "**Q10. Explain the difference between covariance and correlation. How are these measures used in\n",
        "statistical analysis?**"
      ],
      "metadata": {
        "id": "1Pv5T0FwClTt"
      }
    },
    {
      "cell_type": "markdown",
      "source": [
        "**Ans :-**\n",
        "\n",
        "1.   Covariance measures how two variables change together, while correlation measures the strength and direction of the linear relationship between two variables.\n",
        "2.  Covariance is affected by the scale of the variables, while correlation is not.\n",
        "3.  Covariance can take on any value, while correlation ranges from -1 to 1\n",
        "\n",
        "\n"
      ],
      "metadata": {
        "id": "tYRJZIheN304"
      }
    },
    {
      "cell_type": "code",
      "source": [],
      "metadata": {
        "id": "sGPW-K3bCmmr"
      },
      "execution_count": null,
      "outputs": []
    },
    {
      "cell_type": "markdown",
      "source": [
        "**Q11. What is the formula for calculating the sample mean? Provide an example calculation for a\n",
        "dataset.**"
      ],
      "metadata": {
        "id": "Ta1f4p7jCm8r"
      }
    },
    {
      "cell_type": "markdown",
      "source": [
        "**Ans :-**                        \n",
        "**formula for sample mean :-** x̄ = ( Σ xi ) ÷ n"
      ],
      "metadata": {
        "id": "BTzny58lOTLD"
      }
    },
    {
      "cell_type": "markdown",
      "source": [
        "(\n",
        "x\n",
        "1\n",
        "+\n",
        "x\n",
        "2\n",
        "+\n",
        "x\n",
        "3\n",
        "+\n",
        "⋯\n",
        "+\n",
        "x\n",
        "n\n",
        ")/\n",
        "n\n"
      ],
      "metadata": {
        "id": "EIfJ5spMkwQg"
      }
    },
    {
      "cell_type": "code",
      "source": [],
      "metadata": {
        "id": "mQJqnsY5CptF"
      },
      "execution_count": null,
      "outputs": []
    },
    {
      "cell_type": "markdown",
      "source": [
        "**Q12. For a normal distribution data what is the relationship between its measure of central tendency?**"
      ],
      "metadata": {
        "id": "1bN67XWACqK4"
      }
    },
    {
      "cell_type": "markdown",
      "source": [
        "**Ans :-** Any normal distribution has a graph that is perfectly symmetric about a vertical line through its peak.Therefore, all measure central tendency are same.\n",
        "\n",
        "mean=mode=median"
      ],
      "metadata": {
        "id": "N2aFCknTSgCL"
      }
    },
    {
      "cell_type": "markdown",
      "source": [
        "**Q13. How is covariance different from correlation?**"
      ],
      "metadata": {
        "id": "eD5MaMz4CtbL"
      }
    },
    {
      "cell_type": "markdown",
      "source": [
        "**Ans :-**Covariance shows you how the two variables differ, whereas correlation shows you how the two variables are related."
      ],
      "metadata": {
        "id": "Px5OjhfwS9us"
      }
    },
    {
      "cell_type": "markdown",
      "source": [
        "**Q14. How do outliers affect measures of central tendency and dispersion? Provide an example.**"
      ],
      "metadata": {
        "id": "Kz6-KsGOCwP8"
      }
    },
    {
      "cell_type": "code",
      "source": [
        "data = np.array([1, 2, 3, 4, 5, 100])\n",
        "\n",
        "# Calculate the mean and median\n",
        "mean = np.mean(data)\n",
        "median = np.median(data)\n",
        "print(\"Mean :\",mean)\n",
        "print(\"Median :\",median)"
      ],
      "metadata": {
        "colab": {
          "base_uri": "https://localhost:8080/"
        },
        "id": "NBc2uHQdCzyX",
        "outputId": "48a32b6a-531c-48a5-b64e-332f98c8beed"
      },
      "execution_count": null,
      "outputs": [
        {
          "output_type": "stream",
          "name": "stdout",
          "text": [
            "Mean : 19.166666666666668\n",
            "Median : 3.5\n"
          ]
        }
      ]
    },
    {
      "cell_type": "code",
      "source": [
        "#Calculate the variance and standard deviation\n",
        "variance = np.var(data)\n",
        "std_dev = np.std(data)\n",
        "print(\"Variance :\",variance)\n",
        "print(\"Standard deviation :\",std_dev)"
      ],
      "metadata": {
        "colab": {
          "base_uri": "https://localhost:8080/"
        },
        "id": "qhRfxnSYTjhK",
        "outputId": "57d7916b-ec6e-471e-da59-11af97fa1dc4"
      },
      "execution_count": null,
      "outputs": [
        {
          "output_type": "stream",
          "name": "stdout",
          "text": [
            "Variance : 1308.4722222222222\n",
            "Standard deviation : 36.17281053805775\n"
          ]
        }
      ]
    },
    {
      "cell_type": "code",
      "source": [],
      "metadata": {
        "id": "X5HoJgtDT6Pf"
      },
      "execution_count": null,
      "outputs": []
    }
  ]
}