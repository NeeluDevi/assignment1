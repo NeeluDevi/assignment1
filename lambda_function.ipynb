{
  "cells": [
    {
      "cell_type": "markdown",
      "metadata": {
        "id": "view-in-github",
        "colab_type": "text"
      },
      "source": [
        "<a href=\"https://colab.research.google.com/github/NeeluDevi/assignment1/blob/main/lambda_function.ipynb\" target=\"_parent\"><img src=\"https://colab.research.google.com/assets/colab-badge.svg\" alt=\"Open In Colab\"/></a>"
      ]
    },
    {
      "cell_type": "code",
      "execution_count": 1,
      "id": "9c3a194c-d024-46e6-aa63-3fb324a4d0b5",
      "metadata": {
        "id": "9c3a194c-d024-46e6-aa63-3fb324a4d0b5"
      },
      "outputs": [],
      "source": [
        "n = 3\n",
        "p = 2"
      ]
    },
    {
      "cell_type": "code",
      "execution_count": 2,
      "id": "bec8c526-96a7-4d69-abb5-0d6551308987",
      "metadata": {
        "id": "bec8c526-96a7-4d69-abb5-0d6551308987"
      },
      "outputs": [],
      "source": [
        "def test(n,p):\n",
        "    return n**p"
      ]
    },
    {
      "cell_type": "code",
      "execution_count": 3,
      "id": "24f8e234-4d6b-4496-8506-4585fc4953f6",
      "metadata": {
        "id": "24f8e234-4d6b-4496-8506-4585fc4953f6",
        "outputId": "5d52e906-6c98-482e-b31a-42a0af58daa1",
        "colab": {
          "base_uri": "https://localhost:8080/"
        }
      },
      "outputs": [
        {
          "output_type": "execute_result",
          "data": {
            "text/plain": [
              "9"
            ]
          },
          "metadata": {},
          "execution_count": 3
        }
      ],
      "source": [
        "test(3,2)"
      ]
    },
    {
      "cell_type": "code",
      "execution_count": 4,
      "id": "a935973c-31d9-4813-b642-c694052b9649",
      "metadata": {
        "id": "a935973c-31d9-4813-b642-c694052b9649"
      },
      "outputs": [],
      "source": [
        "a = lambda n, p :n**p"
      ]
    },
    {
      "cell_type": "code",
      "execution_count": 5,
      "id": "8c8be7db-9f32-4a98-946a-91d03615b7e4",
      "metadata": {
        "id": "8c8be7db-9f32-4a98-946a-91d03615b7e4",
        "outputId": "4c5b802d-817c-4c21-f602-f3c6959e18d6",
        "colab": {
          "base_uri": "https://localhost:8080/"
        }
      },
      "outputs": [
        {
          "output_type": "execute_result",
          "data": {
            "text/plain": [
              "9"
            ]
          },
          "metadata": {},
          "execution_count": 5
        }
      ],
      "source": [
        "a(3,2)"
      ]
    },
    {
      "cell_type": "code",
      "execution_count": 6,
      "id": "ff919513-7038-4195-8970-f8a7b6cdba9b",
      "metadata": {
        "id": "ff919513-7038-4195-8970-f8a7b6cdba9b"
      },
      "outputs": [],
      "source": [
        "\n",
        "add = lambda x,y : x+y "
      ]
    },
    {
      "cell_type": "code",
      "execution_count": 7,
      "id": "4b977339-897e-44c9-b0fc-b98afd79c14a",
      "metadata": {
        "id": "4b977339-897e-44c9-b0fc-b98afd79c14a",
        "outputId": "996534b5-fd07-4ceb-98f0-28a0df121d05",
        "colab": {
          "base_uri": "https://localhost:8080/"
        }
      },
      "outputs": [
        {
          "output_type": "execute_result",
          "data": {
            "text/plain": [
              "9"
            ]
          },
          "metadata": {},
          "execution_count": 7
        }
      ],
      "source": [
        "add(4,5)"
      ]
    },
    {
      "cell_type": "code",
      "execution_count": 8,
      "id": "cc847307-9bd8-450e-a685-709777f06422",
      "metadata": {
        "id": "cc847307-9bd8-450e-a685-709777f06422"
      },
      "outputs": [],
      "source": [
        "c_to_f = lambda c : (9/5)*c + 32"
      ]
    },
    {
      "cell_type": "code",
      "execution_count": 9,
      "id": "68ccbaa2-f6ae-4a8f-b9de-17737f6a90aa",
      "metadata": {
        "id": "68ccbaa2-f6ae-4a8f-b9de-17737f6a90aa",
        "outputId": "f50f961f-9469-497b-87dc-00f215abeab4",
        "colab": {
          "base_uri": "https://localhost:8080/"
        }
      },
      "outputs": [
        {
          "output_type": "execute_result",
          "data": {
            "text/plain": [
              "113.0"
            ]
          },
          "metadata": {},
          "execution_count": 9
        }
      ],
      "source": [
        "c_to_f(45)"
      ]
    },
    {
      "cell_type": "code",
      "execution_count": 10,
      "id": "5843f821-b5e9-4885-a409-1c625012798e",
      "metadata": {
        "id": "5843f821-b5e9-4885-a409-1c625012798e"
      },
      "outputs": [],
      "source": [
        "finding_max = lambda x,y : x if x>y else y "
      ]
    },
    {
      "cell_type": "code",
      "execution_count": 11,
      "id": "07f8dc43-cc7a-4bfb-8a0e-aef26888a459",
      "metadata": {
        "id": "07f8dc43-cc7a-4bfb-8a0e-aef26888a459",
        "outputId": "59992997-010f-4792-db75-a74a6e3920bc",
        "colab": {
          "base_uri": "https://localhost:8080/"
        }
      },
      "outputs": [
        {
          "output_type": "execute_result",
          "data": {
            "text/plain": [
              "34"
            ]
          },
          "metadata": {},
          "execution_count": 11
        }
      ],
      "source": [
        "finding_max(34,23)"
      ]
    },
    {
      "cell_type": "code",
      "execution_count": 15,
      "id": "c0271b52-9f3a-4893-9d08-54c82ce55b32",
      "metadata": {
        "id": "c0271b52-9f3a-4893-9d08-54c82ce55b32"
      },
      "outputs": [],
      "source": [
        "s = \"Neelu rajput\""
      ]
    },
    {
      "cell_type": "code",
      "execution_count": 16,
      "id": "ecd5c22f-16e0-44f2-9bb9-69671845bd40",
      "metadata": {
        "id": "ecd5c22f-16e0-44f2-9bb9-69671845bd40"
      },
      "outputs": [],
      "source": [
        "find_len = lambda s : len(s)"
      ]
    },
    {
      "cell_type": "code",
      "execution_count": 17,
      "id": "6bcc463d-8016-4545-b859-a9ee2e723f2a",
      "metadata": {
        "id": "6bcc463d-8016-4545-b859-a9ee2e723f2a",
        "outputId": "e0c73a1f-3334-45eb-8239-c0a1200b4885",
        "colab": {
          "base_uri": "https://localhost:8080/"
        }
      },
      "outputs": [
        {
          "output_type": "execute_result",
          "data": {
            "text/plain": [
              "12"
            ]
          },
          "metadata": {},
          "execution_count": 17
        }
      ],
      "source": [
        "find_len(s)"
      ]
    },
    {
      "cell_type": "code",
      "execution_count": 14,
      "id": "828cd14b-1784-4033-8478-37d8e16f51cb",
      "metadata": {
        "id": "828cd14b-1784-4033-8478-37d8e16f51cb"
      },
      "outputs": [],
      "source": []
    }
  ],
  "metadata": {
    "kernelspec": {
      "display_name": "Python 3 (ipykernel)",
      "language": "python",
      "name": "python3"
    },
    "language_info": {
      "codemirror_mode": {
        "name": "ipython",
        "version": 3
      },
      "file_extension": ".py",
      "mimetype": "text/x-python",
      "name": "python",
      "nbconvert_exporter": "python",
      "pygments_lexer": "ipython3",
      "version": "3.10.8"
    },
    "colab": {
      "provenance": [],
      "include_colab_link": true
    }
  },
  "nbformat": 4,
  "nbformat_minor": 5
}