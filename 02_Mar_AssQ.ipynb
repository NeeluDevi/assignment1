{
  "nbformat": 4,
  "nbformat_minor": 0,
  "metadata": {
    "colab": {
      "provenance": [],
      "authorship_tag": "ABX9TyN3UdB5/aX/z74g2F3bRtAU",
      "include_colab_link": true
    },
    "kernelspec": {
      "name": "python3",
      "display_name": "Python 3"
    },
    "language_info": {
      "name": "python"
    }
  },
  "cells": [
    {
      "cell_type": "markdown",
      "metadata": {
        "id": "view-in-github",
        "colab_type": "text"
      },
      "source": [
        "<a href=\"https://colab.research.google.com/github/NeeluDevi/assignment1/blob/main/02_Mar_AssQ.ipynb\" target=\"_parent\"><img src=\"https://colab.research.google.com/assets/colab-badge.svg\" alt=\"Open In Colab\"/></a>"
      ]
    },
    {
      "cell_type": "markdown",
      "source": [
        "**Q1: What is Matplotlib? Why is it used? Name five plots that can be plotted using the Pyplot module of\n",
        "Matplotlib.**"
      ],
      "metadata": {
        "id": "qWRpL0d0CO_w"
      }
    },
    {
      "cell_type": "markdown",
      "source": [
        "**Ans. :**\n",
        "**Matplotlib :-** It is a Python library that helps to analyzing and visualizing the data with graphical representation.\n",
        "\n",
        "1.   It is an amazing visualizing library in python for 2D plots data.\n",
        "2.   It allows users to create high-quality plots with minimal code.\n",
        "3.   It provides a simple and intuitive way to visualize data.\n",
        "4.   Matplotlib is open-source software and is free to use and distribute.\n",
        "\n"
      ],
      "metadata": {
        "id": "RjcDHbWTCRnX"
      }
    },
    {
      "cell_type": "markdown",
      "source": [
        "**Why is it used?**\n",
        "\n",
        "1.   Wide Range of Plots\n",
        "2.   Integration with Python\n",
        "3.   Simple Syntax\n",
        "4.   Open-source and Free\n",
        "5.   Easy to implement.\n",
        "\n"
      ],
      "metadata": {
        "id": "z6OItAHGflmv"
      }
    },
    {
      "cell_type": "markdown",
      "source": [
        "**Name five plots that can be plotted using the Pyplot module of Matplotlib.**\n",
        "\n",
        "1.   Line plot-used to show relationship between two variables and show line connecting.\n",
        "2.   scatter plot-used to visualize the distribution of data points in two or more variables.\n",
        "3.   bar plot-used to represent the data in a categorical format, where the height of each bar corresponds to the value of the data point.\n",
        "4.   histogram plot-used to represent the distribution of data by dividing the data into a set of intervals and counting the number of data points in each interval.\n",
        "5.   pie plot-sed to represent the proportion of different categories in the data by dividing the circle into sectors.\n",
        "\n"
      ],
      "metadata": {
        "id": "W3iiNV_pgG77"
      }
    },
    {
      "cell_type": "markdown",
      "source": [
        "**.Q2: What is a scatter plot? Use the following code to generate data for x and y. Using this generated data\n",
        "plot a scatter plot.**\n",
        "\n",
        "import numpy as np\n",
        "\n",
        "np.random.seed(3)\n",
        "\n",
        "x = 3 + np.random.normal(0, 2, 50)\n",
        "\n",
        "y = 3 + np.random.normal(0, 2, len(x))\n",
        "\n",
        "Note: Also add title, xlabel, and ylabel to the plot.."
      ],
      "metadata": {
        "id": "3_I69YIahYIg"
      }
    },
    {
      "cell_type": "markdown",
      "source": [
        "**Ans : Scatter plot :** a graph in which the values of two variables are plotted along two axes, the pattern of the resulting points revealing any correlation present."
      ],
      "metadata": {
        "id": "AR-GeS0Oh5a3"
      }
    },
    {
      "cell_type": "code",
      "execution_count": null,
      "metadata": {
        "id": "9053sF2aCKpU"
      },
      "outputs": [],
      "source": [
        "import matplotlib.pyplot as plt\n",
        "import numpy as np\n",
        "np.random.seed(3)\n",
        "x = 3 + np.random.normal(0, 2, 50)\n",
        "y = 3 + np.random.normal(0, 2, len(x))"
      ]
    },
    {
      "cell_type": "code",
      "source": [
        "x"
      ],
      "metadata": {
        "colab": {
          "base_uri": "https://localhost:8080/"
        },
        "id": "11hwyYTGiPe8",
        "outputId": "3f835c03-a769-4bfb-ad71-113463e31e2d"
      },
      "execution_count": null,
      "outputs": [
        {
          "output_type": "execute_result",
          "data": {
            "text/plain": [
              "array([ 6.57725695,  3.8730197 ,  3.19299494, -0.72698541,  2.44522359,\n",
              "        2.29048204,  2.83451704,  1.74599865,  2.91236366,  2.04556394,\n",
              "        0.37227049,  4.76924476,  4.76263608,  6.41914613,  3.10006728,\n",
              "        2.19064517,  1.9092801 , -0.09295463,  4.96473487,  0.79786474,\n",
              "        0.62990695,  2.5887002 ,  5.97229671,  3.47343253,  0.95242972,\n",
              "        1.5740136 ,  4.25048993,  2.67897327,  1.4623273 ,  2.53993856,\n",
              "        4.49011253,  6.95222157,  0.51175334,  1.74716618,  1.39246781,\n",
              "       -1.83816635,  1.15241596,  0.95224848,  5.24795592,  2.73617153,\n",
              "       -0.24657089,  4.2933509 ,  2.28745848, -0.48628207,  1.80670072,\n",
              "        1.82281124,  1.2522354 ,  3.05942763, -1.49651554,  2.46447627])"
            ]
          },
          "metadata": {},
          "execution_count": 2
        }
      ]
    },
    {
      "cell_type": "code",
      "source": [
        "y"
      ],
      "metadata": {
        "colab": {
          "base_uri": "https://localhost:8080/"
        },
        "id": "ziJeN5GlidGJ",
        "outputId": "692402e8-4130-4238-d119-15436d8df501"
      },
      "execution_count": null,
      "outputs": [
        {
          "output_type": "execute_result",
          "data": {
            "text/plain": [
              "array([ 5.02636688,  4.70559568,  5.216375  ,  5.23878131,  5.97508626,\n",
              "        0.76339863,  4.69166681, -0.72177906,  1.79422979, -0.82894409,\n",
              "        5.09629502,  5.66747564,  2.60517064,  6.54929006,  1.65054498,\n",
              "        3.30123373,  3.30589141,  0.87160945,  3.87589322,  6.87795692,\n",
              "        0.95013825,  4.79867689,  2.6909863 ,  6.53925461,  3.9675767 ,\n",
              "        4.3524328 ,  4.28632656,  3.49817341,  0.20847299,  5.78332582,\n",
              "        0.25866197,  3.47712638,  4.22815418,  1.32417545,  3.29012643,\n",
              "        5.33576457,  2.95179106,  1.22268516, -2.8314755 ,  1.05631899,\n",
              "        1.81784252,  1.96716526,  1.08000764,  3.75459047,  1.85058316,\n",
              "        2.78109133,  4.3581432 ,  1.28912566,  2.39958785,  7.31629868])"
            ]
          },
          "metadata": {},
          "execution_count": 3
        }
      ]
    },
    {
      "cell_type": "code",
      "source": [
        "plt.scatter(x,y,c='g')\n",
        "plt.xlabel('x-axis')\n",
        "plt.ylabel('y-axis')\n",
        "plt.title('Scatter Plot')\n",
        "plt.show()"
      ],
      "metadata": {
        "colab": {
          "base_uri": "https://localhost:8080/",
          "height": 295
        },
        "id": "vsXYgS8qid6u",
        "outputId": "d64253e7-22f9-4b3b-b79a-cfa3523a3dbc"
      },
      "execution_count": null,
      "outputs": [
        {
          "output_type": "display_data",
          "data": {
            "text/plain": [
              "<Figure size 432x288 with 1 Axes>"
            ],
            "image/png": "[encoded data removed]"
          },
          "metadata": {
            "needs_background": "light"
          }
        }
      ]
    },
    {
      "cell_type": "markdown",
      "source": [
        "**Q3: Why is the subplot() function used? Draw four line plots using the subplot() function.**\n",
        "\n",
        "Use the following data:\n",
        "\n",
        "import numpy as np\n",
        "\n",
        "For line 1: x = np.array([0, 1, 2, 3, 4, 5]) and  y = np.array([0, 100, 200, 300, 400, 500])\n",
        "\n",
        "For line 2: x = np.array([0, 1, 2, 3, 4, 5]) and y = np.array([50, 20, 40, 20, 60, 70])\n",
        "\n",
        "For line 3: x = np.array([0, 1, 2, 3, 4, 5]) and y = np.array([10, 20, 30, 40, 50, 60])\n",
        "\n",
        "For line 4: x = np.array([0, 1, 2, 3, 4, 5]) and y = np.array([200, 350, 250, 550, 450, 150])"
      ],
      "metadata": {
        "id": "IWwDzbGDjEEJ"
      }
    },
    {
      "cell_type": "markdown",
      "source": [
        "**Ans. :** subplot() funtion provides a way to plot multiple plots on a single figure."
      ],
      "metadata": {
        "id": "1Zp2N7AyjhqJ"
      }
    },
    {
      "cell_type": "code",
      "source": [
        "# for line1\n",
        "x1 = np.array([0, 1, 2, 3, 4, 5])\n",
        "y1 = np.array([0, 100, 200, 300, 400, 500])"
      ],
      "metadata": {
        "id": "dWHVRgWKiiX7"
      },
      "execution_count": null,
      "outputs": []
    },
    {
      "cell_type": "code",
      "source": [
        "# For line 2: \n",
        "x2 = np.array([0, 1, 2, 3, 4, 5])\n",
        "y2 = np.array([50, 20, 40, 20, 60, 70])"
      ],
      "metadata": {
        "id": "ZBHzWjbykHN-"
      },
      "execution_count": null,
      "outputs": []
    },
    {
      "cell_type": "code",
      "source": [
        "# For line 3: \n",
        "x3 = np.array([0, 1, 2, 3, 4, 5]) \n",
        "y3 = np.array([10, 20, 30, 40, 50, 60])"
      ],
      "metadata": {
        "id": "YsE385KskKgE"
      },
      "execution_count": null,
      "outputs": []
    },
    {
      "cell_type": "code",
      "source": [
        "#For line 4: \n",
        "x4 = np.array([0, 1, 2, 3, 4, 5]) \n",
        "y4 = np.array([200, 350, 250, 550, 450, 150])"
      ],
      "metadata": {
        "id": "Ss8wYGURkc70"
      },
      "execution_count": null,
      "outputs": []
    },
    {
      "cell_type": "code",
      "source": [
        "fig, axs = plt.subplots(nrows=2, ncols=2, figsize=(8, 8))\n",
        "axs[0, 0].plot(x1, y1, color='blue')\n",
        "axs[0, 0].set_title('Line 1')\n",
        "axs[0, 1].plot(x2, y2, color='red')\n",
        "axs[0, 1].set_title('Line 2')\n",
        "axs[1, 0].plot(x3, y3, color='orange')\n",
        "axs[1, 0].set_title('Line 3')\n",
        "axs[1, 1].plot(x4, y4, color='green')\n",
        "axs[1, 1].set_title('Line 4')\n",
        "fig.suptitle('Four Line Plots')\n",
        "plt.show()"
      ],
      "metadata": {
        "colab": {
          "base_uri": "https://localhost:8080/",
          "height": 540
        },
        "id": "betWpERXlkS3",
        "outputId": "7483522c-6555-4cf8-f08a-ebae03f840d5"
      },
      "execution_count": null,
      "outputs": [
        {
          "output_type": "display_data",
          "data": {
            "text/plain": [
              "<Figure size 576x576 with 4 Axes>"
            ],
            "image/png": "[encoded data removed]"
          },
          "metadata": {
            "needs_background": "light"
          }
        }
      ]
    },
    {
      "cell_type": "markdown",
      "source": [
        "**Q4: What is a bar plot? Why is it used? Using the following data plot a bar plot and a horizontal bar plot.**\n",
        "\n",
        "import numpy as np\n",
        "\n",
        "company = np.array([\"Apple\", \"Microsoft\", \"Google\", \"AMD\"])\n",
        "\n",
        "profit = np.array([3000, 8000, 1000, 10000])"
      ],
      "metadata": {
        "id": "2JHAI9tumiGT"
      }
    },
    {
      "cell_type": "code",
      "source": [
        "company = np.array([\"Apple\", \"Microsoft\", \"Google\", \"AMD\"])\n",
        "profit = np.array([3000, 8000, 1000, 10000])"
      ],
      "metadata": {
        "id": "klq-4vj5loe9"
      },
      "execution_count": null,
      "outputs": []
    },
    {
      "cell_type": "code",
      "source": [
        "plt.bar(company,profit)\n",
        "plt.xlabel('Comapny')\n",
        "plt.ylabel('Profit')\n",
        "plt.title('Bar Plot')"
      ],
      "metadata": {
        "id": "x3wYfma1njCP",
        "colab": {
          "base_uri": "https://localhost:8080/",
          "height": 313
        },
        "outputId": "94d26285-7661-4367-bf34-3f2348a4b352"
      },
      "execution_count": null,
      "outputs": [
        {
          "output_type": "execute_result",
          "data": {
            "text/plain": [
              "Text(0.5, 1.0, 'Bar Plot')"
            ]
          },
          "metadata": {},
          "execution_count": 11
        },
        {
          "output_type": "display_data",
          "data": {
            "text/plain": [
              "<Figure size 432x288 with 1 Axes>"
            ],
            "image/png": "[encoded data removed]"
          },
          "metadata": {
            "needs_background": "light"
          }
        }
      ]
    },
    {
      "cell_type": "code",
      "source": [
        "plt.barh(company,profit)\n",
        "plt.ylabel('Comapny')\n",
        "plt.xlabel('Profit')\n",
        "plt.title(' Horizontal Bar Plot')"
      ],
      "metadata": {
        "id": "C1ju3SYpnpKq",
        "colab": {
          "base_uri": "https://localhost:8080/",
          "height": 313
        },
        "outputId": "1ed4afce-1533-4064-9844-2614616db10f"
      },
      "execution_count": null,
      "outputs": [
        {
          "output_type": "execute_result",
          "data": {
            "text/plain": [
              "Text(0.5, 1.0, ' Horizontal Bar Plot')"
            ]
          },
          "metadata": {},
          "execution_count": 12
        },
        {
          "output_type": "display_data",
          "data": {
            "text/plain": [
              "<Figure size 432x288 with 1 Axes>"
            ],
            "image/png": "[encoded data removed]"
          },
          "metadata": {
            "needs_background": "light"
          }
        }
      ]
    },
    {
      "cell_type": "markdown",
      "source": [
        "**Q5: What is a box plot? Why is it used? Using the following data plot a box plot.**\n",
        "\n",
        "box1 = np.random.normal(100, 10, 200)\n",
        "\n",
        "box2 = np.random.normal(90, 20, 200)"
      ],
      "metadata": {
        "id": "GobgNk2MqZJS"
      }
    },
    {
      "cell_type": "markdown",
      "source": [
        "**Ans. :**Box plot-a simple way of representing statistical data on a plot in which a rectangle is drawn to represent the second and third quartiles, usually with a vertical line inside to indicate the median value."
      ],
      "metadata": {
        "id": "s8UdgJvrrx88"
      }
    },
    {
      "cell_type": "markdown",
      "source": [
        "**Why is it used?**\n",
        "\n",
        "1.   To visually summarize the distribution of a dataset\n",
        "2.   To compare the distribution of multiple datasets\n",
        "3.   To identify outliers\n",
        "4.   To detect skewness and assess normality\n",
        "\n"
      ],
      "metadata": {
        "id": "NAN9wgvKr4o2"
      }
    },
    {
      "cell_type": "code",
      "source": [
        "box1 = np.random.normal(100, 10, 200)\n",
        "box2 = np.random.normal(90, 20, 200)"
      ],
      "metadata": {
        "id": "HYMUnFi7qN8X"
      },
      "execution_count": null,
      "outputs": []
    },
    {
      "cell_type": "code",
      "source": [
        "fig, ax = plt.subplots()\n",
        "ax.boxplot([box1, box2], labels=['Box 1', 'Box 2'])\n",
        "ax.set_title('Box Plot')\n",
        "ax.set_ylabel('Data Values')\n",
        "plt.show()"
      ],
      "metadata": {
        "colab": {
          "base_uri": "https://localhost:8080/",
          "height": 281
        },
        "id": "RVluLvlDqgNi",
        "outputId": "7f827369-b10d-4af7-ea42-d0aaf5a2ebb0"
      },
      "execution_count": null,
      "outputs": [
        {
          "output_type": "display_data",
          "data": {
            "text/plain": [
              "<Figure size 432x288 with 1 Axes>"
            ],
            "image/png": "[encoded data removed]"
          },
          "metadata": {
            "needs_background": "light"
          }
        }
      ]
    },
    {
      "cell_type": "code",
      "source": [],
      "metadata": {
        "id": "-KLSBwLFqk8_"
      },
      "execution_count": null,
      "outputs": []
    }
  ]
}