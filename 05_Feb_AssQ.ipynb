{
  "nbformat": 4,
  "nbformat_minor": 0,
  "metadata": {
    "colab": {
      "provenance": [],
      "authorship_tag": "ABX9TyPMqvuugz4v1/2OnPWk6gI/",
      "include_colab_link": true
    },
    "kernelspec": {
      "name": "python3",
      "display_name": "Python 3"
    },
    "language_info": {
      "name": "python"
    }
  },
  "cells": [
    {
      "cell_type": "markdown",
      "metadata": {
        "id": "view-in-github",
        "colab_type": "text"
      },
      "source": [
        "<a href=\"https://colab.research.google.com/github/NeeluDevi/assignment1/blob/main/05_Feb_AssQ.ipynb\" target=\"_parent\"><img src=\"https://colab.research.google.com/assets/colab-badge.svg\" alt=\"Open In Colab\"/></a>"
      ]
    },
    {
      "cell_type": "markdown",
      "source": [
        "**Q1. Explain Class and Object with respect to Object-Oriented Programming. Give a suitable example.**"
      ],
      "metadata": {
        "id": "gofbzsLY4J2N"
      }
    },
    {
      "cell_type": "markdown",
      "source": [
        "**Ans. :** **Class:**\n",
        "1.   It is like an object constructor , or blueprint for creating objects.\n",
        "2.   Almost everything in python is an object, with its properties and methods.\n",
        "3.   To create a class we use keyword 'class'.\n",
        "4.   Class is a category like fruits,home etc.\n",
        "\n"
      ],
      "metadata": {
        "id": "vWvSPbHp4q7J"
      }
    },
    {
      "cell_type": "markdown",
      "source": [
        "**Object :**\n",
        "\n",
        "1.   Object is called as instance of class.\n",
        "2.   Object has specific values for its attributes.\n",
        "3.   Objects can execute the methods defined in the class.\n",
        "\n"
      ],
      "metadata": {
        "id": "_b4yrb6h4vfK"
      }
    },
    {
      "cell_type": "code",
      "execution_count": null,
      "metadata": {
        "id": "R4-usKfBTCVB",
        "colab": {
          "base_uri": "https://localhost:8080/"
        },
        "outputId": "9760c71c-850e-448c-e74b-2d7b82b8514f"
      },
      "outputs": [
        {
          "output_type": "execute_result",
          "data": {
            "text/plain": [
              "('Horse', 4, 2)"
            ]
          },
          "metadata": {},
          "execution_count": 8
        }
      ],
      "source": [
        "class Animal:\n",
        "  def __init__(self,legs,name):\n",
        "    self.name=name\n",
        "    self.legs=legs\n",
        "  def show(self):\n",
        "    self.ear=2\n",
        "    return (self.name,self.legs,self.ear)\n",
        "obj=Animal(4,'Horse')\n",
        "obj.show()"
      ]
    },
    {
      "cell_type": "markdown",
      "source": [
        "**Q2. Name the four pillars of OOPs.**"
      ],
      "metadata": {
        "id": "qB6inwT76c6z"
      }
    },
    {
      "cell_type": "markdown",
      "source": [
        "**Ans :** Name of four pillars of oops.\n",
        "\n",
        "1.   Inheritance\n",
        "2.   Polymorphism\n",
        "3.   Encapsulation\n",
        "4.   Abstraction\n",
        "\n"
      ],
      "metadata": {
        "id": "I0AYu_Y38yTp"
      }
    },
    {
      "cell_type": "code",
      "source": [],
      "metadata": {
        "id": "dAl_mXgn6fZ7"
      },
      "execution_count": null,
      "outputs": []
    },
    {
      "cell_type": "markdown",
      "source": [
        "**Q3. Explain why the __init__() function is used. Give a suitable example.**"
      ],
      "metadata": {
        "id": "Dg4MsD6z6f2R"
      }
    },
    {
      "cell_type": "markdown",
      "source": [
        "**Ans :** init() function is also known as constructor. It is used to initialize the object when it is created.  It is a special method that is automatically called when an object is instantiated from a class."
      ],
      "metadata": {
        "id": "HmlEsrK-9PbE"
      }
    },
    {
      "cell_type": "code",
      "source": [
        "class Person:\n",
        "  def __init__(self,name):\n",
        "    self.name=name\n",
        "  def display(self):\n",
        "    print(\"Hello My name is :\",self.name)\n",
        "obj=Person('Neelu')\n",
        "obj.display()\n",
        "obj=Person('Shubham')\n",
        "obj.display()\n",
        "obj=Person('Sudh')\n",
        "obj.display()"
      ],
      "metadata": {
        "colab": {
          "base_uri": "https://localhost:8080/"
        },
        "id": "MxrAzXhO6jn8",
        "outputId": "e2acd33e-3454-4a26-9fd7-0843414e98b0"
      },
      "execution_count": null,
      "outputs": [
        {
          "output_type": "stream",
          "name": "stdout",
          "text": [
            "Hello My name is : Neelu\n",
            "Hello My name is : Shubham\n",
            "Hello My name is : Sudh\n"
          ]
        }
      ]
    },
    {
      "cell_type": "markdown",
      "source": [
        "**Q4. Why self is used in OOPs?**"
      ],
      "metadata": {
        "id": "tYM2MWrV6kDd"
      }
    },
    {
      "cell_type": "markdown",
      "source": [
        "**Ans :**The self variable is used to represent the instance of the class . It works as a reference to the object.\n",
        "It is used to access the attributes and methods of the object within the class methods."
      ],
      "metadata": {
        "id": "EniweVb5-wUv"
      }
    },
    {
      "cell_type": "code",
      "source": [],
      "metadata": {
        "id": "DxaHREul6myE"
      },
      "execution_count": null,
      "outputs": []
    },
    {
      "cell_type": "markdown",
      "source": [
        "**Q5. What is inheritance? Give an example for each type of inheritance.**"
      ],
      "metadata": {
        "id": "qaiO4i0_6nAX"
      }
    },
    {
      "cell_type": "markdown",
      "source": [
        "**Ans :** **Inheritance:-** Inheritance is the capability of one class to derive or inherit the properties from another class.\n",
        "Parent class is the class being inherited from, also called base class. Child class is the class that inherits from another class, also called derived class."
      ],
      "metadata": {
        "id": "AlSkgNv2_K9Y"
      }
    },
    {
      "cell_type": "markdown",
      "source": [
        "**Types of Inheritance :**\n",
        "\n",
        "1.   Single Inheritance\n",
        "2.   Multilevel Inheritance\n",
        "3.   Multiple Inheritance\n",
        "4.   Hybrid Inheritance\n",
        "5.   Hierarchical Inheritance\n",
        "\n"
      ],
      "metadata": {
        "id": "9vl7j0ZL_mPi"
      }
    },
    {
      "cell_type": "code",
      "source": [
        "#Single Inheritance\n",
        "class Parent:\n",
        "  def func1(self):\n",
        "    print(\"I am func1 of parent class \")\n",
        "class Child(Parent):\n",
        "  def  func2(self):\n",
        "    print(\"I am func2 of parent class \")\n",
        "\n",
        "# create object of the class\n",
        "obj=Child()\n",
        "obj.func1()\n",
        "obj.func2()"
      ],
      "metadata": {
        "id": "qa9QyyWx6qRB",
        "colab": {
          "base_uri": "https://localhost:8080/"
        },
        "outputId": "56f5d224-c8a2-4177-f1ad-39db1e0a6a6b"
      },
      "execution_count": null,
      "outputs": [
        {
          "output_type": "stream",
          "name": "stdout",
          "text": [
            "I am func1 of parent class \n",
            "I am func2 of parent class \n"
          ]
        }
      ]
    },
    {
      "cell_type": "code",
      "source": [
        "#Multiple Inheritance\n",
        "class Parent:\n",
        "  def func1(self):\n",
        "    print(\"I am func1 of Parent class\")\n",
        "class Parent2:\n",
        "  def func2(self):\n",
        "    print(\"I am function of Parent2 class\")\n",
        "class Child(Parent,Parent2):\n",
        "  def func3(self):\n",
        "    print(\"I am method of Child class\")\n",
        "\n",
        "#create the object of the child class\n",
        "obj=Child()\n",
        "obj.func1()\n",
        "obj.func2()\n",
        "obj.func3()"
      ],
      "metadata": {
        "colab": {
          "base_uri": "https://localhost:8080/"
        },
        "id": "-BZZDjLEsi2a",
        "outputId": "ada25fc5-a858-40ec-b4d3-cff4b79847c1"
      },
      "execution_count": null,
      "outputs": [
        {
          "output_type": "stream",
          "name": "stdout",
          "text": [
            "I am func1 of Parent class\n",
            "I am function of Parent2 class\n",
            "I am method of Child class\n"
          ]
        }
      ]
    },
    {
      "cell_type": "code",
      "source": [
        "#Multilevel Inheritance\n",
        "class Grandfather:\n",
        "  def func1(self):\n",
        "    print(\"I am method of Grrandfather class\")\n",
        "class Parent(Grandfather):\n",
        "  def func2(self):\n",
        "    print(\"I am function of Parent classs\")\n",
        "class Child(Parent):\n",
        "  def func3(self):\n",
        "    print(\"I am function of Child class\")\n",
        "\n",
        "#create object of the class\n",
        "obj=Child()\n",
        "obj.func1()\n",
        "obj.func2()\n",
        "obj.func3()\n"
      ],
      "metadata": {
        "colab": {
          "base_uri": "https://localhost:8080/"
        },
        "id": "2GddoPSNtw0V",
        "outputId": "15d5849c-f2e8-4f81-f00f-ce70909645e2"
      },
      "execution_count": null,
      "outputs": [
        {
          "output_type": "stream",
          "name": "stdout",
          "text": [
            "I am method of Grrandfather class\n",
            "I am function of Parent classs\n",
            "I am function of Child class\n"
          ]
        }
      ]
    },
    {
      "cell_type": "code",
      "source": [
        "#Hierarchical Inheritance\n",
        "class Parent:\n",
        "  def func1(self):\n",
        "    print(\"I am a method of Parent class\")\n",
        "class Child1(Parent):\n",
        "  def func2(self):\n",
        "    print(\"I am a method of Child1 class\")\n",
        "class Child2(Parent):\n",
        "  def func3(self):\n",
        "    print(\"I am function of Child2 class\")\n",
        "\n",
        "#create an object of the class child2\n",
        "obj=Child2()\n",
        "obj1=Child1()\n",
        "obj.func1()\n",
        "obj1.func2()\n",
        "obj.func3()"
      ],
      "metadata": {
        "colab": {
          "base_uri": "https://localhost:8080/"
        },
        "id": "E6D7oTZZu4mR",
        "outputId": "f179cab9-ad61-47ba-8b13-e20b9b5d6943"
      },
      "execution_count": null,
      "outputs": [
        {
          "output_type": "stream",
          "name": "stdout",
          "text": [
            "I am a method of Parent class\n",
            "I am a method of Child1 class\n",
            "I am function of Child2 class\n"
          ]
        }
      ]
    },
    {
      "cell_type": "code",
      "source": [
        "#Hybrid Inheritance\n",
        "class Parent:\n",
        "     def func1(self):\n",
        "         print(\"I am a method of Parent class\")\n",
        " \n",
        "class Child(Parent):\n",
        "     def func2(self):\n",
        "         print(\"I am a method of Child class\")\n",
        " \n",
        "class Child1(Parent):\n",
        "     def func3(self):\n",
        "         print(\"I am a method of Child1 class\")\n",
        " \n",
        "class Child3( Child1):\n",
        "     def func4(self):\n",
        "         print(\" I am a method of Child3 class\")\n",
        " \n",
        "ob = Child3()\n",
        "ob.func1()\n",
        "ob.func3()\n"
      ],
      "metadata": {
        "colab": {
          "base_uri": "https://localhost:8080/"
        },
        "id": "JFeUtFDtv6Q2",
        "outputId": "83f63c04-73d8-46d9-a5c0-643ee69016d6"
      },
      "execution_count": null,
      "outputs": [
        {
          "output_type": "stream",
          "name": "stdout",
          "text": [
            "I am a method of Parent class\n",
            "I am a method of Child1 class\n"
          ]
        }
      ]
    },
    {
      "cell_type": "code",
      "source": [],
      "metadata": {
        "id": "QO4YTLfswslE"
      },
      "execution_count": null,
      "outputs": []
    }
  ]
}