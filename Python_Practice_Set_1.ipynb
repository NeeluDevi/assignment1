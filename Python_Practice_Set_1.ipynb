{
  "nbformat": 4,
  "nbformat_minor": 0,
  "metadata": {
    "colab": {
      "provenance": [],
      "authorship_tag": "ABX9TyNyU+13sjrzOAXDbIGOJqxB",
      "include_colab_link": true
    },
    "kernelspec": {
      "name": "python3",
      "display_name": "Python 3"
    },
    "language_info": {
      "name": "python"
    }
  },
  "cells": [
    {
      "cell_type": "markdown",
      "metadata": {
        "id": "view-in-github",
        "colab_type": "text"
      },
      "source": [
        "<a href=\"https://colab.research.google.com/github/NeeluDevi/assignment1/blob/main/Python_Practice_Set_1.ipynb\" target=\"_parent\"><img src=\"https://colab.research.google.com/assets/colab-badge.svg\" alt=\"Open In Colab\"/></a>"
      ]
    },
    {
      "cell_type": "markdown",
      "source": [
        "**Q1. Write a Python program that defines a function called \"add_numbers\" that takes two arguments (i.e.,\n",
        "numbers) and returns their sum. Within the function, add the two numbers together and return the result\n",
        "using the return statement. Call the function with the values 5 and 6, and print out the returned result.\n",
        "This will result in the addition of 5 and 6, with the output of the program being the sum of these two\n",
        "numbers.**"
      ],
      "metadata": {
        "id": "k4hZJLB0lpgx"
      }
    },
    {
      "cell_type": "code",
      "execution_count": 1,
      "metadata": {
        "id": "JqizgnPLku6Q"
      },
      "outputs": [],
      "source": [
        "def add_numbers(num1,num2):\n",
        "  return num1+num2"
      ]
    },
    {
      "cell_type": "code",
      "source": [
        "x=add_numbers(5,6)\n",
        "print(\"The sum of these two numbers :\",x)"
      ],
      "metadata": {
        "colab": {
          "base_uri": "https://localhost:8080/"
        },
        "id": "w7w_P5B6l9eS",
        "outputId": "ab145be8-e58d-455c-b2f9-b57abde0d98a"
      },
      "execution_count": 4,
      "outputs": [
        {
          "output_type": "stream",
          "name": "stdout",
          "text": [
            "The sum of these two numbers : 11\n"
          ]
        }
      ]
    },
    {
      "cell_type": "markdown",
      "source": [
        "**Q2. Write a Python program that calculates the square root of a given number using a built-in function.\n",
        "Specifically, the program should take an integer or float input from the user, calculate its square root\n",
        "using the 'sqrt()' function from the 'math' module, and print out the result to the user. As an example,\n",
        "calculate the square root of the number 625 using this program, which should output the value of 25.**"
      ],
      "metadata": {
        "id": "kEQQuuramXhV"
      }
    },
    {
      "cell_type": "code",
      "source": [
        "from math import *"
      ],
      "metadata": {
        "id": "mk32NlxOmG-R"
      },
      "execution_count": 5,
      "outputs": []
    },
    {
      "cell_type": "code",
      "source": [
        "number=eval(input('Enter a number to get square root '))\n",
        "print(int(sqrt(number)))"
      ],
      "metadata": {
        "colab": {
          "base_uri": "https://localhost:8080/"
        },
        "id": "Plhi-N71mh0S",
        "outputId": "d9dc3a9d-03df-46e3-8413-c5549bdd5a61"
      },
      "execution_count": 8,
      "outputs": [
        {
          "output_type": "stream",
          "name": "stdout",
          "text": [
            "Enter a number to get square root 625\n",
            "25\n"
          ]
        }
      ]
    },
    {
      "cell_type": "markdown",
      "source": [
        "**Q3.Write a program that prints all prime numbers between 0 to 50.**"
      ],
      "metadata": {
        "id": "lFqWnVo3nLRi"
      }
    },
    {
      "cell_type": "code",
      "source": [
        "low=1\n",
        "high=50\n",
        "for num in range(low,high+1):\n",
        "  if num>1:\n",
        "    for i in range(2,num):\n",
        "      if num%i==0:\n",
        "        break\n",
        "    else:\n",
        "      print(num)"
      ],
      "metadata": {
        "colab": {
          "base_uri": "https://localhost:8080/"
        },
        "id": "w-MuGNXLmu7a",
        "outputId": "4d729039-a543-45cc-b9e1-f8b563edd32e"
      },
      "execution_count": 10,
      "outputs": [
        {
          "output_type": "stream",
          "name": "stdout",
          "text": [
            "2\n",
            "3\n",
            "5\n",
            "7\n",
            "11\n",
            "13\n",
            "17\n",
            "19\n",
            "23\n",
            "29\n",
            "31\n",
            "37\n",
            "41\n",
            "43\n",
            "47\n"
          ]
        }
      ]
    },
    {
      "cell_type": "markdown",
      "source": [
        "**Q4.How can we swap the values of three variables (let's say a, b, and c) without using a fourth variable?\n",
        "For example, if we have a=5, b=8, and c=9, how can we obtain a=9, b=5, and c=8? The challenge is to\n",
        "perform this operation without using an additional variable to store any of the values during the\n",
        "swapping process.**"
      ],
      "metadata": {
        "id": "Bon_MMgjo90E"
      }
    },
    {
      "cell_type": "code",
      "source": [
        "a=int(input(\"enter first value \"))\n",
        "b=int(input(\"enter second value \"))\n",
        "c=int(input(\"enter third value \"))\n",
        "a,b,c=c,a,b\n",
        "print('Value of a after swap: ',a)\n",
        "print('Value of b after swap: ',b)\n",
        "print('Value of c after swap: ',c)"
      ],
      "metadata": {
        "colab": {
          "base_uri": "https://localhost:8080/"
        },
        "id": "ylD-iH-XotGr",
        "outputId": "4d02d4c5-e528-4834-eab5-0e01b71a16c8"
      },
      "execution_count": 15,
      "outputs": [
        {
          "output_type": "stream",
          "name": "stdout",
          "text": [
            "enter first value 5\n",
            "enter second value 8\n",
            "enter third value 9\n",
            "Value of a after swap:  9\n",
            "Value of b after swap:  5\n",
            "Value of c after swap:  8\n"
          ]
        }
      ]
    },
    {
      "cell_type": "code",
      "source": [
        "# another way to do same task\n",
        "a=int(input(\"enter first value \"))\n",
        "b=int(input(\"enter second value \"))\n",
        "c=int(input(\"enter third value \"))\n",
        "a=(b+c)-b\n",
        "b=(a+c)-c\n",
        "c=(b+c)-c\n",
        "print('Value of a after swap: ',a)\n",
        "print('Value of b after swap: ',b)\n",
        "print('Value of c after swap: ',c)"
      ],
      "metadata": {
        "colab": {
          "base_uri": "https://localhost:8080/"
        },
        "id": "sFeB1tc1qqQE",
        "outputId": "abf542f3-b918-4b1e-9c01-12dfbcc225af"
      },
      "execution_count": 18,
      "outputs": [
        {
          "output_type": "stream",
          "name": "stdout",
          "text": [
            "enter first value 5\n",
            "enter second value 8\n",
            "enter third value 9\n",
            "Value of a after swap:  9\n",
            "Value of b after swap:  9\n",
            "Value of c after swap:  9\n"
          ]
        }
      ]
    },
    {
      "cell_type": "markdown",
      "source": [
        "**Q5. Can you write a program that determines the nature of a given number (in this case, 87) as being\n",
        "positive, negative, or zero? The program should be designed to take the number as input and perform the\n",
        "necessary calculations to determine if the number is positive (i.e., greater than zero), negative (i.e., less\n",
        "than zero), or zero (i.e., equal to zero). The output of the program should indicate which of these three\n",
        "categories the given number falls into.**"
      ],
      "metadata": {
        "id": "L8eGIgEquSVJ"
      }
    },
    {
      "cell_type": "code",
      "source": [
        "number=int(input(\"Enter a number to check it is neg pos or zero \"))\n",
        "if number>0:\n",
        "  print(\"Positive\")\n",
        "elif number<0:\n",
        "  print(\"Negative\")\n",
        "else:\n",
        "  print(\"Zero\")"
      ],
      "metadata": {
        "colab": {
          "base_uri": "https://localhost:8080/"
        },
        "id": "3AZxalCbr8YW",
        "outputId": "1504b70c-b045-49c5-fed5-e6caf768b15b"
      },
      "execution_count": 22,
      "outputs": [
        {
          "output_type": "stream",
          "name": "stdout",
          "text": [
            "Enter a number to check it is neg pos or zero 87\n",
            "Positive\n"
          ]
        }
      ]
    },
    {
      "cell_type": "markdown",
      "source": [
        "**Q6. How can you create a program that determines whether a given number (in this case, 98) is even or\n",
        "odd? The program should be designed to take the number as input and perform the necessary\n",
        "calculations to determine whether it is divisible by two. If the number is divisible by two without leaving a\n",
        "remainder, it is an even number, and if there is a remainder, it is an odd number. The output of the\n",
        "program should indicate whether the given number is even or odd.**"
      ],
      "metadata": {
        "id": "BCONM5Iuu7Kw"
      }
    },
    {
      "cell_type": "code",
      "source": [
        "number=int(input(\"Enter a number to chekc it is even or odd \"))\n",
        "if number%2==0:\n",
        "  print(\"The given number is Even\")\n",
        "else:\n",
        "  print(\"The given number is Odd\")"
      ],
      "metadata": {
        "colab": {
          "base_uri": "https://localhost:8080/"
        },
        "id": "FZEX5EoSuyCi",
        "outputId": "39d8e3a1-ca67-4aba-cb8e-1ecf7fae4060"
      },
      "execution_count": 24,
      "outputs": [
        {
          "output_type": "stream",
          "name": "stdout",
          "text": [
            "Enter a number to chekc it is even or odd 98\n",
            "The given number is Even\n"
          ]
        }
      ]
    },
    {
      "cell_type": "markdown",
      "source": [
        "**Q7.Write a program for sum of digits.the digits are 76543 and the output should be 25.**"
      ],
      "metadata": {
        "id": "gF35J6qGviRs"
      }
    },
    {
      "cell_type": "code",
      "source": [
        "number=input(\"Enter digits to get sum of all \")\n",
        "total=0\n",
        "for i in number:\n",
        "  total=total+int(i)\n",
        "print(total)\n",
        "  "
      ],
      "metadata": {
        "colab": {
          "base_uri": "https://localhost:8080/"
        },
        "id": "3K8IpCnIvOnv",
        "outputId": "c1b78433-5b52-4f94-e017-fc56192df70b"
      },
      "execution_count": 39,
      "outputs": [
        {
          "output_type": "stream",
          "name": "stdout",
          "text": [
            "Enter digits to get sum of all 76543\n",
            "25\n"
          ]
        }
      ]
    },
    {
      "cell_type": "markdown",
      "source": [
        "**Q8.Write a program for reversing the given number 5436 and the output should be 6345.**"
      ],
      "metadata": {
        "id": "AaK5ypD7yQkt"
      }
    },
    {
      "cell_type": "code",
      "source": [
        "# Reverse a number using while loop\n",
        "number=int(input(\"enter a number to reverse \"))\n",
        "reverse=0\n",
        "while number>0:\n",
        "  remainder=number%10\n",
        "  reverse=reverse*10+remainder\n",
        "  number=number//10\n",
        "print(reverse)"
      ],
      "metadata": {
        "colab": {
          "base_uri": "https://localhost:8080/"
        },
        "id": "HDwjP5CKv1RT",
        "outputId": "9a1067dc-651b-4ea9-98ea-6b3b1e21a432"
      },
      "execution_count": 58,
      "outputs": [
        {
          "output_type": "stream",
          "name": "stdout",
          "text": [
            "enter a number to reverse 5436\n",
            "6345\n"
          ]
        }
      ]
    },
    {
      "cell_type": "markdown",
      "source": [
        "**Q9.Write a program to check if a given number 371 is an Armstrong number?**"
      ],
      "metadata": {
        "id": "9Nhmoozk2Fdl"
      }
    },
    {
      "cell_type": "markdown",
      "source": [
        "**Ans. :**An Armstrong number is one whose sum of all digits raised to the power three(cube) equals the number itself."
      ],
      "metadata": {
        "id": "5qc2K39O2VLY"
      }
    },
    {
      "cell_type": "code",
      "source": [
        "number=int(input(\"Enter a number an Armstrong number? \"))\n",
        "temp=number\n",
        "sum=0\n",
        "while number > 0:\n",
        "  digit=number%10\n",
        "  sum=sum+digit**3\n",
        "  number=number//10\n",
        "if temp==sum:\n",
        "  print(\"The given number is an Armstrong number\")\n",
        "else:\n",
        " print(\"The given number is not Armstrong number\")"
      ],
      "metadata": {
        "colab": {
          "base_uri": "https://localhost:8080/"
        },
        "id": "6tM64aaqyzoG",
        "outputId": "8e184ef3-830b-454a-d00d-4952dd534a75"
      },
      "execution_count": 67,
      "outputs": [
        {
          "output_type": "stream",
          "name": "stdout",
          "text": [
            "Enter a number an Armstrong number? 371\n",
            "The given number is an Armstrong number\n"
          ]
        }
      ]
    },
    {
      "cell_type": "markdown",
      "source": [
        "**Q10.Write a program the given year is 1996, a leap year.**"
      ],
      "metadata": {
        "id": "s6yWJDT15hxJ"
      }
    },
    {
      "cell_type": "code",
      "source": [
        "year=int(input(\"Enter a year to check leap year \"))\n",
        "if (year%400)==0 and (year%100) == 0:\n",
        "  print(\"This year is leap year \")\n",
        "elif (year % 4 ==0) and (year % 100 != 0):\n",
        "  print(\"This year is a leap year \")\n",
        "else:\n",
        "  print(\"This year is not a leap year \")"
      ],
      "metadata": {
        "colab": {
          "base_uri": "https://localhost:8080/"
        },
        "id": "HqFuiOK_2783",
        "outputId": "697111aa-36a0-44da-de2e-6dbd9cfaf2ee"
      },
      "execution_count": 71,
      "outputs": [
        {
          "output_type": "stream",
          "name": "stdout",
          "text": [
            "Enter a year to check leap year 2020\n",
            "This year is a leap year \n"
          ]
        }
      ]
    },
    {
      "cell_type": "code",
      "source": [],
      "metadata": {
        "id": "jTHXJYyw_mcb"
      },
      "execution_count": 70,
      "outputs": []
    }
  ]
}