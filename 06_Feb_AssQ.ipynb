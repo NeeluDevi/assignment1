{
  "nbformat": 4,
  "nbformat_minor": 0,
  "metadata": {
    "colab": {
      "provenance": [],
      "authorship_tag": "ABX9TyM0wezVQ12L/JkaETcBDPPv",
      "include_colab_link": true
    },
    "kernelspec": {
      "name": "python3",
      "display_name": "Python 3"
    },
    "language_info": {
      "name": "python"
    }
  },
  "cells": [
    {
      "cell_type": "markdown",
      "metadata": {
        "id": "view-in-github",
        "colab_type": "text"
      },
      "source": [
        "<a href=\"https://colab.research.google.com/github/NeeluDevi/assignment1/blob/main/06_Feb_AssQ.ipynb\" target=\"_parent\"><img src=\"https://colab.research.google.com/assets/colab-badge.svg\" alt=\"Open In Colab\"/></a>"
      ]
    },
    {
      "cell_type": "markdown",
      "source": [
        "**Q1. Create a function which will take a list as an argument and return the product of all the numbers\n",
        "after creating a flat list.**"
      ],
      "metadata": {
        "id": "vXhiBJ7ywAiU"
      }
    },
    {
      "cell_type": "markdown",
      "source": [
        "**Use the below-given list as an argument for your function.\n",
        "list1 = [1,2,3,4, [44,55,66, True], False, (34,56,78,89,34), {1,2,3,3,2,1}, {1:34, \"key2\": [55, 67, 78, 89], 4: (45,\n",
        "22, 61, 34)}, [56, 'data science'], 'Machine Learning']\n",
        "Note: you must extract numeric keys and values of the dictionary also.**"
      ],
      "metadata": {
        "id": "j0fQU0x2wG0k"
      }
    },
    {
      "cell_type": "code",
      "source": [
        "import numpy as np\n",
        "import re"
      ],
      "metadata": {
        "id": "BRZavIN1xZ3O"
      },
      "execution_count": 1,
      "outputs": []
    },
    {
      "cell_type": "code",
      "source": [
        "list1 = str([[1,2,3,4, [44,55,66, True], False, (34,56,78,89,34), {1,2,3,3,2,1}, {1:34, \n",
        "              \"key2\": [55, 67, 78, 89], 4: (45, 22, 61, 34)}, [56, 'data science'], 'Machine Learning']])\n"
      ],
      "metadata": {
        "id": "_RJnemfowjNy"
      },
      "execution_count": 2,
      "outputs": []
    },
    {
      "cell_type": "code",
      "source": [
        "data=list(map(int, re.findall('\\d+', list1)))\n",
        "print(data)\n"
      ],
      "metadata": {
        "colab": {
          "base_uri": "https://localhost:8080/"
        },
        "id": "luut--fAHlXE",
        "outputId": "9536c280-3438-4c83-c79c-d063e84ecd47"
      },
      "execution_count": 3,
      "outputs": [
        {
          "output_type": "stream",
          "name": "stdout",
          "text": [
            "[1, 2, 3, 4, 44, 55, 66, 34, 56, 78, 89, 34, 1, 2, 3, 1, 34, 2, 55, 67, 78, 89, 4, 45, 22, 61, 34, 56]\n"
          ]
        }
      ]
    },
    {
      "cell_type": "code",
      "source": [
        "result=1\n",
        "for i in data:\n",
        "  result=result*int(i)\n",
        "\n",
        "print(result)"
      ],
      "metadata": {
        "colab": {
          "base_uri": "https://localhost:8080/"
        },
        "id": "coUv6-N9Pmsb",
        "outputId": "6671bee6-9d49-4072-d8cf-fe926e7bbcbc"
      },
      "execution_count": 4,
      "outputs": [
        {
          "output_type": "stream",
          "name": "stdout",
          "text": [
            "8269423677974170957667682484224000\n"
          ]
        }
      ]
    },
    {
      "cell_type": "code",
      "source": [
        "from functools import reduce\n",
        "print(reduce(lambda a,b : a*b,data))"
      ],
      "metadata": {
        "colab": {
          "base_uri": "https://localhost:8080/"
        },
        "id": "wRWju8SCPsIh",
        "outputId": "cbc38e3b-1655-418e-97ea-8a2982afe029"
      },
      "execution_count": 5,
      "outputs": [
        {
          "output_type": "stream",
          "name": "stdout",
          "text": [
            "8269423677974170957667682484224000\n"
          ]
        }
      ]
    },
    {
      "cell_type": "markdown",
      "source": [
        "**Q2. Write a python program for encrypting a message sent to you by your friend. The logic of encryption\n",
        "should be such that, for a the output should be z. For b, the output should be y. For c, the output should\n",
        "be x respectively. Also, the whitespace should be replaced with a dollar sign. Keep the punctuation\n",
        "marks unchanged.\n",
        "Input Sentence: I want to become a Data Scientist.\n",
        "Encrypt the above input sentence using the program you just created.\n",
        "Note: Convert the given input sentence into lowercase before encrypting. The final output should be\n",
        "lowercase.**"
      ],
      "metadata": {
        "id": "H_dTUKbFSSRV"
      }
    },
    {
      "cell_type": "code",
      "source": [
        "def encrypt(message):\n",
        "    encrypted_message = \"\"\n",
        "    for char in message:\n",
        "        if char == \" \":\n",
        "            encrypted_message += \"$\"\n",
        "        elif char.isalpha():\n",
        "            encrypted_char = chr(ord(\"a\") + (ord(\"z\") - ord(char)))\n",
        "            encrypted_message += encrypted_char\n",
        "        else:\n",
        "            encrypted_message += char \n",
        "    return encrypted_message\n"
      ],
      "metadata": {
        "id": "0PCV7-pEcHzL"
      },
      "execution_count": 42,
      "outputs": []
    },
    {
      "cell_type": "code",
      "source": [
        "message = \"I want to become a Data Scientist.\"\n",
        "m=message.lower()\n",
        "encrypted_message = encrypt(m)\n",
        "print(encrypted_message)\n"
      ],
      "metadata": {
        "colab": {
          "base_uri": "https://localhost:8080/"
        },
        "id": "tr6_XuB5hgPm",
        "outputId": "0b247a19-a381-43aa-a207-176422039948"
      },
      "execution_count": 49,
      "outputs": [
        {
          "output_type": "stream",
          "name": "stdout",
          "text": [
            "r$dzmg$gl$yvxlnv$z$wzgz$hxrvmgrhg.\n"
          ]
        }
      ]
    },
    {
      "cell_type": "code",
      "source": [],
      "metadata": {
        "id": "9_lFvuCghlXl"
      },
      "execution_count": null,
      "outputs": []
    }
  ]
}